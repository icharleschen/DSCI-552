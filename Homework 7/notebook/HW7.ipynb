{
 "cells": [
  {
   "cell_type": "code",
   "execution_count": 1,
   "id": "35d78ede",
   "metadata": {},
   "outputs": [],
   "source": [
    "# Import libraries\n",
    "import math\n",
    "import matplotlib.pyplot as plt\n",
    "import numpy as np\n",
    "import pandas as pd\n",
    "import seaborn as sns\n",
    "import statistics\n",
    "\n",
    "from imblearn.over_sampling import SMOTE\n",
    "from imblearn.pipeline import Pipeline as imbpipeline\n",
    "from sklearn.cluster import KMeans\n",
    "from sklearn.metrics import accuracy_score, hamming_loss, silhouette_score\n",
    "from sklearn.model_selection import GridSearchCV, train_test_split\n",
    "from sklearn.preprocessing import StandardScaler\n",
    "from sklearn.svm import LinearSVC, SVC\n",
    "from tqdm.notebook import tqdm_notebook"
   ]
  },
  {
   "cell_type": "markdown",
   "id": "f43d5720",
   "metadata": {},
   "source": [
    "# 1. Multi-class and Multi-Label Classification Using Support Vector Machines"
   ]
  },
  {
   "cell_type": "markdown",
   "id": "593272ae",
   "metadata": {},
   "source": [
    "## (a)\n",
    "Download the Anuran Calls (MFCCs) Data Set from: https://archive.ics.uci.edu/ml/datasets/Anuran+Calls+%28MFCCs%29. Choose 70% of the data randomly as the training set."
   ]
  },
  {
   "cell_type": "code",
   "execution_count": 2,
   "id": "1e9bae03",
   "metadata": {},
   "outputs": [
    {
     "data": {
      "text/html": [
       "<div>\n",
       "<style scoped>\n",
       "    .dataframe tbody tr th:only-of-type {\n",
       "        vertical-align: middle;\n",
       "    }\n",
       "\n",
       "    .dataframe tbody tr th {\n",
       "        vertical-align: top;\n",
       "    }\n",
       "\n",
       "    .dataframe thead th {\n",
       "        text-align: right;\n",
       "    }\n",
       "</style>\n",
       "<table border=\"1\" class=\"dataframe\">\n",
       "  <thead>\n",
       "    <tr style=\"text-align: right;\">\n",
       "      <th></th>\n",
       "      <th>MFCCs_ 1</th>\n",
       "      <th>MFCCs_ 2</th>\n",
       "      <th>MFCCs_ 3</th>\n",
       "      <th>MFCCs_ 4</th>\n",
       "      <th>MFCCs_ 5</th>\n",
       "      <th>MFCCs_ 6</th>\n",
       "      <th>MFCCs_ 7</th>\n",
       "      <th>MFCCs_ 8</th>\n",
       "      <th>MFCCs_ 9</th>\n",
       "      <th>MFCCs_10</th>\n",
       "      <th>...</th>\n",
       "      <th>MFCCs_16</th>\n",
       "      <th>MFCCs_17</th>\n",
       "      <th>MFCCs_18</th>\n",
       "      <th>MFCCs_19</th>\n",
       "      <th>MFCCs_20</th>\n",
       "      <th>MFCCs_21</th>\n",
       "      <th>MFCCs_22</th>\n",
       "      <th>Family</th>\n",
       "      <th>Genus</th>\n",
       "      <th>Species</th>\n",
       "    </tr>\n",
       "  </thead>\n",
       "  <tbody>\n",
       "    <tr>\n",
       "      <th>0</th>\n",
       "      <td>1.0</td>\n",
       "      <td>0.152936</td>\n",
       "      <td>-0.105586</td>\n",
       "      <td>0.200722</td>\n",
       "      <td>0.317201</td>\n",
       "      <td>0.260764</td>\n",
       "      <td>0.100945</td>\n",
       "      <td>-0.150063</td>\n",
       "      <td>-0.171128</td>\n",
       "      <td>0.124676</td>\n",
       "      <td>...</td>\n",
       "      <td>-0.024017</td>\n",
       "      <td>-0.108351</td>\n",
       "      <td>-0.077623</td>\n",
       "      <td>-0.009568</td>\n",
       "      <td>0.057684</td>\n",
       "      <td>0.118680</td>\n",
       "      <td>0.014038</td>\n",
       "      <td>Leptodactylidae</td>\n",
       "      <td>Adenomera</td>\n",
       "      <td>AdenomeraAndre</td>\n",
       "    </tr>\n",
       "    <tr>\n",
       "      <th>1</th>\n",
       "      <td>1.0</td>\n",
       "      <td>0.171534</td>\n",
       "      <td>-0.098975</td>\n",
       "      <td>0.268425</td>\n",
       "      <td>0.338672</td>\n",
       "      <td>0.268353</td>\n",
       "      <td>0.060835</td>\n",
       "      <td>-0.222475</td>\n",
       "      <td>-0.207693</td>\n",
       "      <td>0.170883</td>\n",
       "      <td>...</td>\n",
       "      <td>0.012022</td>\n",
       "      <td>-0.090974</td>\n",
       "      <td>-0.056510</td>\n",
       "      <td>-0.035303</td>\n",
       "      <td>0.020140</td>\n",
       "      <td>0.082263</td>\n",
       "      <td>0.029056</td>\n",
       "      <td>Leptodactylidae</td>\n",
       "      <td>Adenomera</td>\n",
       "      <td>AdenomeraAndre</td>\n",
       "    </tr>\n",
       "    <tr>\n",
       "      <th>2</th>\n",
       "      <td>1.0</td>\n",
       "      <td>0.152317</td>\n",
       "      <td>-0.082973</td>\n",
       "      <td>0.287128</td>\n",
       "      <td>0.276014</td>\n",
       "      <td>0.189867</td>\n",
       "      <td>0.008714</td>\n",
       "      <td>-0.242234</td>\n",
       "      <td>-0.219153</td>\n",
       "      <td>0.232538</td>\n",
       "      <td>...</td>\n",
       "      <td>0.083536</td>\n",
       "      <td>-0.050691</td>\n",
       "      <td>-0.023590</td>\n",
       "      <td>-0.066722</td>\n",
       "      <td>-0.025083</td>\n",
       "      <td>0.099108</td>\n",
       "      <td>0.077162</td>\n",
       "      <td>Leptodactylidae</td>\n",
       "      <td>Adenomera</td>\n",
       "      <td>AdenomeraAndre</td>\n",
       "    </tr>\n",
       "    <tr>\n",
       "      <th>3</th>\n",
       "      <td>1.0</td>\n",
       "      <td>0.224392</td>\n",
       "      <td>0.118985</td>\n",
       "      <td>0.329432</td>\n",
       "      <td>0.372088</td>\n",
       "      <td>0.361005</td>\n",
       "      <td>0.015501</td>\n",
       "      <td>-0.194347</td>\n",
       "      <td>-0.098181</td>\n",
       "      <td>0.270375</td>\n",
       "      <td>...</td>\n",
       "      <td>-0.050224</td>\n",
       "      <td>-0.136009</td>\n",
       "      <td>-0.177037</td>\n",
       "      <td>-0.130498</td>\n",
       "      <td>-0.054766</td>\n",
       "      <td>-0.018691</td>\n",
       "      <td>0.023954</td>\n",
       "      <td>Leptodactylidae</td>\n",
       "      <td>Adenomera</td>\n",
       "      <td>AdenomeraAndre</td>\n",
       "    </tr>\n",
       "    <tr>\n",
       "      <th>4</th>\n",
       "      <td>1.0</td>\n",
       "      <td>0.087817</td>\n",
       "      <td>-0.068345</td>\n",
       "      <td>0.306967</td>\n",
       "      <td>0.330923</td>\n",
       "      <td>0.249144</td>\n",
       "      <td>0.006884</td>\n",
       "      <td>-0.265423</td>\n",
       "      <td>-0.172700</td>\n",
       "      <td>0.266434</td>\n",
       "      <td>...</td>\n",
       "      <td>0.062837</td>\n",
       "      <td>-0.048885</td>\n",
       "      <td>-0.053074</td>\n",
       "      <td>-0.088550</td>\n",
       "      <td>-0.031346</td>\n",
       "      <td>0.108610</td>\n",
       "      <td>0.079244</td>\n",
       "      <td>Leptodactylidae</td>\n",
       "      <td>Adenomera</td>\n",
       "      <td>AdenomeraAndre</td>\n",
       "    </tr>\n",
       "    <tr>\n",
       "      <th>...</th>\n",
       "      <td>...</td>\n",
       "      <td>...</td>\n",
       "      <td>...</td>\n",
       "      <td>...</td>\n",
       "      <td>...</td>\n",
       "      <td>...</td>\n",
       "      <td>...</td>\n",
       "      <td>...</td>\n",
       "      <td>...</td>\n",
       "      <td>...</td>\n",
       "      <td>...</td>\n",
       "      <td>...</td>\n",
       "      <td>...</td>\n",
       "      <td>...</td>\n",
       "      <td>...</td>\n",
       "      <td>...</td>\n",
       "      <td>...</td>\n",
       "      <td>...</td>\n",
       "      <td>...</td>\n",
       "      <td>...</td>\n",
       "      <td>...</td>\n",
       "    </tr>\n",
       "    <tr>\n",
       "      <th>7190</th>\n",
       "      <td>1.0</td>\n",
       "      <td>-0.554504</td>\n",
       "      <td>-0.337717</td>\n",
       "      <td>0.035533</td>\n",
       "      <td>0.034511</td>\n",
       "      <td>0.443451</td>\n",
       "      <td>0.093889</td>\n",
       "      <td>-0.100753</td>\n",
       "      <td>0.037087</td>\n",
       "      <td>0.081075</td>\n",
       "      <td>...</td>\n",
       "      <td>-0.000861</td>\n",
       "      <td>0.069430</td>\n",
       "      <td>0.071001</td>\n",
       "      <td>0.021591</td>\n",
       "      <td>0.052449</td>\n",
       "      <td>-0.021860</td>\n",
       "      <td>-0.079860</td>\n",
       "      <td>Hylidae</td>\n",
       "      <td>Scinax</td>\n",
       "      <td>ScinaxRuber</td>\n",
       "    </tr>\n",
       "    <tr>\n",
       "      <th>7191</th>\n",
       "      <td>1.0</td>\n",
       "      <td>-0.517273</td>\n",
       "      <td>-0.370574</td>\n",
       "      <td>0.030673</td>\n",
       "      <td>0.068097</td>\n",
       "      <td>0.402890</td>\n",
       "      <td>0.096628</td>\n",
       "      <td>-0.116460</td>\n",
       "      <td>0.063727</td>\n",
       "      <td>0.089034</td>\n",
       "      <td>...</td>\n",
       "      <td>0.006457</td>\n",
       "      <td>0.061127</td>\n",
       "      <td>0.068978</td>\n",
       "      <td>0.017745</td>\n",
       "      <td>0.046461</td>\n",
       "      <td>-0.015418</td>\n",
       "      <td>-0.101892</td>\n",
       "      <td>Hylidae</td>\n",
       "      <td>Scinax</td>\n",
       "      <td>ScinaxRuber</td>\n",
       "    </tr>\n",
       "    <tr>\n",
       "      <th>7192</th>\n",
       "      <td>1.0</td>\n",
       "      <td>-0.582557</td>\n",
       "      <td>-0.343237</td>\n",
       "      <td>0.029468</td>\n",
       "      <td>0.064179</td>\n",
       "      <td>0.385596</td>\n",
       "      <td>0.114905</td>\n",
       "      <td>-0.103317</td>\n",
       "      <td>0.070370</td>\n",
       "      <td>0.081317</td>\n",
       "      <td>...</td>\n",
       "      <td>0.008696</td>\n",
       "      <td>0.082474</td>\n",
       "      <td>0.077771</td>\n",
       "      <td>-0.009688</td>\n",
       "      <td>0.027834</td>\n",
       "      <td>-0.000531</td>\n",
       "      <td>-0.080425</td>\n",
       "      <td>Hylidae</td>\n",
       "      <td>Scinax</td>\n",
       "      <td>ScinaxRuber</td>\n",
       "    </tr>\n",
       "    <tr>\n",
       "      <th>7193</th>\n",
       "      <td>1.0</td>\n",
       "      <td>-0.519497</td>\n",
       "      <td>-0.307553</td>\n",
       "      <td>-0.004922</td>\n",
       "      <td>0.072865</td>\n",
       "      <td>0.377131</td>\n",
       "      <td>0.086866</td>\n",
       "      <td>-0.115799</td>\n",
       "      <td>0.056979</td>\n",
       "      <td>0.089316</td>\n",
       "      <td>...</td>\n",
       "      <td>0.001924</td>\n",
       "      <td>0.051796</td>\n",
       "      <td>0.069073</td>\n",
       "      <td>0.017963</td>\n",
       "      <td>0.041803</td>\n",
       "      <td>-0.027911</td>\n",
       "      <td>-0.096895</td>\n",
       "      <td>Hylidae</td>\n",
       "      <td>Scinax</td>\n",
       "      <td>ScinaxRuber</td>\n",
       "    </tr>\n",
       "    <tr>\n",
       "      <th>7194</th>\n",
       "      <td>1.0</td>\n",
       "      <td>-0.508833</td>\n",
       "      <td>-0.324106</td>\n",
       "      <td>0.062068</td>\n",
       "      <td>0.078211</td>\n",
       "      <td>0.397188</td>\n",
       "      <td>0.094596</td>\n",
       "      <td>-0.117672</td>\n",
       "      <td>0.058874</td>\n",
       "      <td>0.076180</td>\n",
       "      <td>...</td>\n",
       "      <td>0.004158</td>\n",
       "      <td>0.061455</td>\n",
       "      <td>0.072983</td>\n",
       "      <td>-0.003980</td>\n",
       "      <td>0.031560</td>\n",
       "      <td>-0.029355</td>\n",
       "      <td>-0.087910</td>\n",
       "      <td>Hylidae</td>\n",
       "      <td>Scinax</td>\n",
       "      <td>ScinaxRuber</td>\n",
       "    </tr>\n",
       "  </tbody>\n",
       "</table>\n",
       "<p>7195 rows × 25 columns</p>\n",
       "</div>"
      ],
      "text/plain": [
       "      MFCCs_ 1  MFCCs_ 2  MFCCs_ 3  MFCCs_ 4  MFCCs_ 5  MFCCs_ 6  MFCCs_ 7  \\\n",
       "0          1.0  0.152936 -0.105586  0.200722  0.317201  0.260764  0.100945   \n",
       "1          1.0  0.171534 -0.098975  0.268425  0.338672  0.268353  0.060835   \n",
       "2          1.0  0.152317 -0.082973  0.287128  0.276014  0.189867  0.008714   \n",
       "3          1.0  0.224392  0.118985  0.329432  0.372088  0.361005  0.015501   \n",
       "4          1.0  0.087817 -0.068345  0.306967  0.330923  0.249144  0.006884   \n",
       "...        ...       ...       ...       ...       ...       ...       ...   \n",
       "7190       1.0 -0.554504 -0.337717  0.035533  0.034511  0.443451  0.093889   \n",
       "7191       1.0 -0.517273 -0.370574  0.030673  0.068097  0.402890  0.096628   \n",
       "7192       1.0 -0.582557 -0.343237  0.029468  0.064179  0.385596  0.114905   \n",
       "7193       1.0 -0.519497 -0.307553 -0.004922  0.072865  0.377131  0.086866   \n",
       "7194       1.0 -0.508833 -0.324106  0.062068  0.078211  0.397188  0.094596   \n",
       "\n",
       "      MFCCs_ 8  MFCCs_ 9  MFCCs_10  ...  MFCCs_16  MFCCs_17  MFCCs_18  \\\n",
       "0    -0.150063 -0.171128  0.124676  ... -0.024017 -0.108351 -0.077623   \n",
       "1    -0.222475 -0.207693  0.170883  ...  0.012022 -0.090974 -0.056510   \n",
       "2    -0.242234 -0.219153  0.232538  ...  0.083536 -0.050691 -0.023590   \n",
       "3    -0.194347 -0.098181  0.270375  ... -0.050224 -0.136009 -0.177037   \n",
       "4    -0.265423 -0.172700  0.266434  ...  0.062837 -0.048885 -0.053074   \n",
       "...        ...       ...       ...  ...       ...       ...       ...   \n",
       "7190 -0.100753  0.037087  0.081075  ... -0.000861  0.069430  0.071001   \n",
       "7191 -0.116460  0.063727  0.089034  ...  0.006457  0.061127  0.068978   \n",
       "7192 -0.103317  0.070370  0.081317  ...  0.008696  0.082474  0.077771   \n",
       "7193 -0.115799  0.056979  0.089316  ...  0.001924  0.051796  0.069073   \n",
       "7194 -0.117672  0.058874  0.076180  ...  0.004158  0.061455  0.072983   \n",
       "\n",
       "      MFCCs_19  MFCCs_20  MFCCs_21  MFCCs_22           Family      Genus  \\\n",
       "0    -0.009568  0.057684  0.118680  0.014038  Leptodactylidae  Adenomera   \n",
       "1    -0.035303  0.020140  0.082263  0.029056  Leptodactylidae  Adenomera   \n",
       "2    -0.066722 -0.025083  0.099108  0.077162  Leptodactylidae  Adenomera   \n",
       "3    -0.130498 -0.054766 -0.018691  0.023954  Leptodactylidae  Adenomera   \n",
       "4    -0.088550 -0.031346  0.108610  0.079244  Leptodactylidae  Adenomera   \n",
       "...        ...       ...       ...       ...              ...        ...   \n",
       "7190  0.021591  0.052449 -0.021860 -0.079860          Hylidae     Scinax   \n",
       "7191  0.017745  0.046461 -0.015418 -0.101892          Hylidae     Scinax   \n",
       "7192 -0.009688  0.027834 -0.000531 -0.080425          Hylidae     Scinax   \n",
       "7193  0.017963  0.041803 -0.027911 -0.096895          Hylidae     Scinax   \n",
       "7194 -0.003980  0.031560 -0.029355 -0.087910          Hylidae     Scinax   \n",
       "\n",
       "             Species  \n",
       "0     AdenomeraAndre  \n",
       "1     AdenomeraAndre  \n",
       "2     AdenomeraAndre  \n",
       "3     AdenomeraAndre  \n",
       "4     AdenomeraAndre  \n",
       "...              ...  \n",
       "7190     ScinaxRuber  \n",
       "7191     ScinaxRuber  \n",
       "7192     ScinaxRuber  \n",
       "7193     ScinaxRuber  \n",
       "7194     ScinaxRuber  \n",
       "\n",
       "[7195 rows x 25 columns]"
      ]
     },
     "metadata": {},
     "output_type": "display_data"
    }
   ],
   "source": [
    "# Read data\n",
    "AnuranCalls = pd.read_csv(\"../data/Anuran Calls (MFCCs)/Frogs_MFCCs.csv\")\n",
    "# Discard the RecordID column\n",
    "AnuranCalls.drop('RecordID', axis=1, inplace=True)\n",
    "display(AnuranCalls)"
   ]
  },
  {
   "cell_type": "code",
   "execution_count": 3,
   "id": "c59e0790",
   "metadata": {},
   "outputs": [
    {
     "name": "stdout",
     "output_type": "stream",
     "text": [
      "Train set shape: (5036, 25)\n",
      "Test set shape: (2159, 25)\n"
     ]
    }
   ],
   "source": [
    "# Split train and test data\n",
    "# Choose 70% of the data randomly as the training set, the rest as testing set\n",
    "AnuranCalls_train, AnuranCalls_test = train_test_split(AnuranCalls, train_size=0.7, shuffle=True, random_state=42)\n",
    "print(\"Train set shape:\", AnuranCalls_train.shape)\n",
    "print(\"Test set shape:\", AnuranCalls_test.shape)"
   ]
  },
  {
   "cell_type": "markdown",
   "id": "a20364a8",
   "metadata": {},
   "source": [
    "## (b) \n",
    "Each instance has three labels: Families, Genus, and Species. Each of the labels has multiple classes. We wish to solve a multi-class and multi-label problem. One of the most important approaches to multi-label classification is to train a classifier for each label (binary relevance). We first try this approach:"
   ]
  },
  {
   "cell_type": "markdown",
   "id": "6f995e2c",
   "metadata": {},
   "source": [
    "### i.\n",
    "Research exact match and hamming score/loss methods for evaluating multilabel classification and use them in evaluating the classifiers in this problem."
   ]
  },
  {
   "cell_type": "markdown",
   "id": "df26ae1d",
   "metadata": {},
   "source": [
    "Some articles/sources that I found helpful: \n",
    "* [Deep dive into multi-label classification..! (With detailed Case Study)](https://towardsdatascience.com/journey-to-the-center-of-multi-label-classification-384c40229bff)\n",
    "* [Metrics and scoring: quantifying the quality of predictions: Hamming loss](https://scikit-learn.org/stable/modules/model_evaluation.html#hamming-loss)\n",
    "* [Metrics for Multilabel Classification](https://mmuratarat.github.io/2020-01-25/multilabel_classification_metrics)\n",
    "\n",
    "We will use both methods to evaluate classifiers in this problem."
   ]
  },
  {
   "cell_type": "markdown",
   "id": "6a0bd305",
   "metadata": {},
   "source": [
    "### ii.\n",
    "Train a SVM for each of the labels, using Gaussian kernels and one versus all classifiers. Determine the weight of the SVM penalty and the width of the Gaussian Kernel using 10 fold cross validation. You are welcome to try to solve the problem with both standardized and raw attributes and report the results."
   ]
  },
  {
   "cell_type": "markdown",
   "id": "fb2d90bc",
   "metadata": {},
   "source": [
    "Following the instruction in the footnote, we will train the SVM with very large and very small parameters on the whole training data and find very large and very small parameters for which the training accuracy is not below a threshold (70%). Then we can select a fixed number of parameters (e.g., 20) between those points for cross validation."
   ]
  },
  {
   "cell_type": "code",
   "execution_count": 4,
   "id": "996c3ebb",
   "metadata": {},
   "outputs": [],
   "source": [
    "# Specify X_train, y_train, X_test, y_test\n",
    "X_train = AnuranCalls_train.iloc[:, :-3]\n",
    "y_train = AnuranCalls_train.iloc[:, -3:]\n",
    "X_test = AnuranCalls_test.iloc[:, :-3]\n",
    "y_test = AnuranCalls_test.iloc[:, -3:]"
   ]
  },
  {
   "cell_type": "code",
   "execution_count": 5,
   "id": "696c7a95",
   "metadata": {},
   "outputs": [
    {
     "name": "stdout",
     "output_type": "stream",
     "text": [
      "[1, 10, 100, 1000, 10000]\n",
      "[1e-05, 0.0001, 0.001, 0.01, 0.1]\n"
     ]
    }
   ],
   "source": [
    "# Define very large parameters\n",
    "C_large = [10**i for i in range(0, 5)]\n",
    "gamma_large = [10**i for i in range(0, 5)]\n",
    "print(C_large)\n",
    "# Define very small parameters\n",
    "C_small = [10**i for i in range(-5, 0)]\n",
    "gamma_small = [10**i for i in range(-5, 0)]\n",
    "print(C_small)"
   ]
  },
  {
   "cell_type": "code",
   "execution_count": 6,
   "id": "b6840bb9",
   "metadata": {},
   "outputs": [],
   "source": [
    "# Define a function to train SVM model\n",
    "def svm_model(C_input, gamma_input):\n",
    "# Define parameter setting\n",
    "    params = {\n",
    "        'C': C_input,\n",
    "        'gamma': gamma_input,\n",
    "        'kernel': ['rbf'],\n",
    "        'decision_function_shape': ['ovr']\n",
    "    }\n",
    "    # Define GridSearchCV object\n",
    "    svclassifier = GridSearchCV(estimator=SVC(), param_grid=params, cv=10, n_jobs=8)\n",
    "    # Fit SCV for each label\n",
    "    for label in y_train.columns:\n",
    "        svclassifier.fit(X_train, y_train[label])\n",
    "        cv_score = svclassifier.best_score_\n",
    "        \n",
    "        # Report model statistics\n",
    "        print(\"Current label:\", label)\n",
    "        print(svclassifier.best_estimator_)\n",
    "        print(f'Cross-validation score: {cv_score}\\n')"
   ]
  },
  {
   "cell_type": "markdown",
   "id": "35f19f96",
   "metadata": {},
   "source": [
    "#### SVMs - The Large Parameters"
   ]
  },
  {
   "cell_type": "code",
   "execution_count": 7,
   "id": "abdda640",
   "metadata": {},
   "outputs": [
    {
     "name": "stdout",
     "output_type": "stream",
     "text": [
      "Current label: Family\n",
      "SVC(C=100, gamma=1)\n",
      "Cross-validation score: 0.9926532077377006\n",
      "\n",
      "Current label: Genus\n",
      "SVC(C=100, gamma=1)\n",
      "Cross-validation score: 0.9896738615923507\n",
      "\n",
      "Current label: Species\n",
      "SVC(C=10, gamma=1)\n",
      "Cross-validation score: 0.9892766417368802\n",
      "\n",
      "CPU times: total: 688 ms\n",
      "Wall time: 4min 11s\n"
     ]
    }
   ],
   "source": [
    "%%time\n",
    "# Train on very large parameter pairs\n",
    "svm_model(C_large, gamma_large)"
   ]
  },
  {
   "cell_type": "markdown",
   "id": "5fecd65f",
   "metadata": {},
   "source": [
    "#### SVMs - Small Parameters"
   ]
  },
  {
   "cell_type": "code",
   "execution_count": 8,
   "id": "1ee68393",
   "metadata": {},
   "outputs": [
    {
     "name": "stdout",
     "output_type": "stream",
     "text": [
      "Current label: Family\n",
      "SVC(C=0.1, gamma=0.1)\n",
      "Cross-validation score: 0.8711311496102748\n",
      "\n",
      "Current label: Genus\n",
      "SVC(C=0.1, gamma=0.1)\n",
      "Cross-validation score: 0.8250603521726783\n",
      "\n",
      "Current label: Species\n",
      "SVC(C=0.1, gamma=0.1)\n",
      "Cross-validation score: 0.8399562939821388\n",
      "\n",
      "CPU times: total: 1.31 s\n",
      "Wall time: 1min 18s\n"
     ]
    }
   ],
   "source": [
    "%%time\n",
    "# Train on very small parameter pairs\n",
    "svm_model(C_small, gamma_small)"
   ]
  },
  {
   "cell_type": "markdown",
   "id": "92b126f1",
   "metadata": {},
   "source": [
    "From the result we obtained from both large and small parameters, we want to narrow down our parameters for cross-validation in the range of $\\log{(\\lambda)} \\in\\{-1, \\dots, 2\\}$, and we will use linear increments for the Gaussian Kernal parameter in the range of $\\{0.1, \\dots, 1\\}$."
   ]
  },
  {
   "cell_type": "markdown",
   "id": "ae5c690e",
   "metadata": {},
   "source": [
    "#### SVMs - The Final Model"
   ]
  },
  {
   "cell_type": "code",
   "execution_count": 9,
   "id": "db04f304",
   "metadata": {},
   "outputs": [
    {
     "name": "stdout",
     "output_type": "stream",
     "text": [
      "[  0.1          0.14384499   0.20691381   0.29763514   0.42813324\n",
      "   0.61584821   0.88586679   1.27427499   1.83298071   2.6366509\n",
      "   3.79269019   5.45559478   7.8475997   11.28837892  16.23776739\n",
      "  23.35721469  33.59818286  48.32930239  69.51927962 100.        ]\n",
      "[0.1        0.14736842 0.19473684 0.24210526 0.28947368 0.33684211\n",
      " 0.38421053 0.43157895 0.47894737 0.52631579 0.57368421 0.62105263\n",
      " 0.66842105 0.71578947 0.76315789 0.81052632 0.85789474 0.90526316\n",
      " 0.95263158 1.        ]\n"
     ]
    }
   ],
   "source": [
    "# Create paramter sets\n",
    "C = np.logspace(-1, 2, 20)\n",
    "print(C)\n",
    "gamma = np.linspace(0.1, 1, 20)\n",
    "print(gamma)"
   ]
  },
  {
   "cell_type": "code",
   "execution_count": 10,
   "id": "852586a2",
   "metadata": {},
   "outputs": [
    {
     "name": "stdout",
     "output_type": "stream",
     "text": [
      "Current label: Family\n",
      "SVC(C=100.0, gamma=0.9052631578947369)\n",
      "Cross-validation score: 0.9926532077377006\n",
      "Train exact match: 1.0\n",
      "Train hamming loss: 0.0\n",
      "Test exact match: 0.9930523390458545\n",
      "Test hamming loss: 0.006947660954145438\n",
      "\n",
      "Current label: Genus\n",
      "SVC(C=69.51927961775606, gamma=1.0)\n",
      "Cross-validation score: 0.9896738615923507\n",
      "Train exact match: 1.0\n",
      "Train hamming loss: 0.0\n",
      "Test exact match: 0.9921259842519685\n",
      "Test hamming loss: 0.007874015748031496\n",
      "\n",
      "Current label: Species\n",
      "SVC(C=7.847599703514611, gamma=1.0)\n",
      "Cross-validation score: 0.989475054435293\n",
      "Train exact match: 0.9990071485305798\n",
      "Train hamming loss: 0.0009928514694201747\n",
      "Test exact match: 0.9893469198703103\n",
      "Test hamming loss: 0.010653080129689671\n",
      "\n",
      "CPU times: total: 5.95 s\n",
      "Wall time: 4min 45s\n"
     ]
    }
   ],
   "source": [
    "%%time\n",
    "# Parameter setting\n",
    "params = {\n",
    "    'C': C,\n",
    "    'gamma': gamma,\n",
    "    'kernel': ['rbf'],\n",
    "    'decision_function_shape': ['ovr']\n",
    "}\n",
    "# Define GridSearchCV object\n",
    "svclassifier = GridSearchCV(estimator=SVC(), param_grid=params, cv=10, n_jobs=8)\n",
    "# Fit SCV for each label\n",
    "for label in y_train.columns:\n",
    "    svclassifier.fit(X_train, y_train[label])\n",
    "    cv_score = svclassifier.best_score_\n",
    "    \n",
    "    # Prediction on training and testing set\n",
    "    y_train_pred = svclassifier.predict(X_train)\n",
    "    y_test_pred = svclassifier.predict(X_test)\n",
    "    \n",
    "    # Obtain exact match score\n",
    "    train_score = accuracy_score(y_train[label], y_train_pred)\n",
    "    test_score = accuracy_score(y_test[label], y_test_pred)\n",
    "    \n",
    "    # Obtain hamming loss\n",
    "    hamming_loss_train = hamming_loss(y_train[label], y_train_pred)\n",
    "    hamming_loss_test = hamming_loss(y_test[label], y_test_pred)\n",
    "    \n",
    "    \n",
    "    # Report model statistics\n",
    "    print(\"Current label:\", label)\n",
    "    print(svclassifier.best_estimator_)\n",
    "    print(f'Cross-validation score: {cv_score}')\n",
    "    print(f'Train exact match: {train_score}\\nTrain hamming loss: {hamming_loss_train}')\n",
    "    print(f'Test exact match: {test_score}\\nTest hamming loss: {hamming_loss_test}\\n')"
   ]
  },
  {
   "cell_type": "markdown",
   "id": "8efd9f8f",
   "metadata": {},
   "source": [
    "The weight of the SVM penalty and width of Gaussian Kernal for each label is shown above.\n",
    "\n",
    "Observe that the SVM penalty differs from each other of different labels, while the width of the Gaussian Kernal is close to each other for each label."
   ]
  },
  {
   "cell_type": "markdown",
   "id": "12c8ce49",
   "metadata": {},
   "source": [
    "### iii.\n",
    "Repeat 1(b)ii with L1-penalized SVMs. Remember to standardize the attributes. Determine the weight of the SVM penalty using 10 fold cross validation."
   ]
  },
  {
   "cell_type": "code",
   "execution_count": 11,
   "id": "bc3f4ad3",
   "metadata": {},
   "outputs": [],
   "source": [
    "# Standardize attributes on training and testing data\n",
    "scaler = StandardScaler()\n",
    "# We only fit the scaler on training data\n",
    "scaler.fit(X_train)\n",
    "X_train_stand = scaler.transform(X_train)\n",
    "X_test_stand = scaler.transform(X_test)"
   ]
  },
  {
   "cell_type": "code",
   "execution_count": 12,
   "id": "ccdd63ff",
   "metadata": {},
   "outputs": [],
   "source": [
    "# Define a function to train L1-penalized SVMs\n",
    "def svm_linear(C_input):\n",
    "    # Define parameter setting\n",
    "    params = {\n",
    "    'penalty': ['l1'],\n",
    "    'dual': [False],\n",
    "    'C': C_input,\n",
    "    'multi_class': ['ovr'],\n",
    "    'max_iter': [5000]\n",
    "    }\n",
    "    # Define GridSearchCV object\n",
    "    svclassifier = GridSearchCV(estimator=LinearSVC(), param_grid=params, cv=10, n_jobs=8)\n",
    "    # Fit LinearSVC for each label\n",
    "    for label in y_train.columns:\n",
    "        svclassifier.fit(X_train_stand, y_train[label])\n",
    "        cv_score = svclassifier.best_score_\n",
    "        \n",
    "        # Report model statistics\n",
    "        print(\"Current label:\", label)\n",
    "        print(svclassifier.best_estimator_)\n",
    "        print(f'Cross-validation score: {cv_score}\\n')"
   ]
  },
  {
   "cell_type": "markdown",
   "id": "c0a7e6d7",
   "metadata": {},
   "source": [
    "#### L1-penalized SVMs  - Large Parameters"
   ]
  },
  {
   "cell_type": "code",
   "execution_count": 13,
   "id": "a7752eaf",
   "metadata": {},
   "outputs": [
    {
     "name": "stdout",
     "output_type": "stream",
     "text": [
      "Current label: Family\n",
      "LinearSVC(C=1, dual=False, max_iter=5000, penalty='l1')\n",
      "Cross-validation score: 0.9406288459717882\n",
      "\n",
      "Current label: Genus\n",
      "LinearSVC(C=10, dual=False, max_iter=5000, penalty='l1')\n",
      "Cross-validation score: 0.9527422764997319\n",
      "\n",
      "Current label: Species\n",
      "LinearSVC(C=10, dual=False, max_iter=5000, penalty='l1')\n",
      "Cross-validation score: 0.9602847202499291\n",
      "\n",
      "CPU times: total: 2.98 s\n",
      "Wall time: 42.4 s\n"
     ]
    }
   ],
   "source": [
    "%%time\n",
    "# Train on very large parameter pairs\n",
    "svm_linear(C_large)"
   ]
  },
  {
   "cell_type": "markdown",
   "id": "8745757b",
   "metadata": {},
   "source": [
    "#### L1-penalized SVMs - Small Parameters"
   ]
  },
  {
   "cell_type": "code",
   "execution_count": 14,
   "id": "d9c7d2b0",
   "metadata": {},
   "outputs": [
    {
     "name": "stdout",
     "output_type": "stream",
     "text": [
      "Current label: Family\n",
      "LinearSVC(C=0.1, dual=False, max_iter=5000, penalty='l1')\n",
      "Cross-validation score: 0.938247499132191\n",
      "\n",
      "Current label: Genus\n",
      "LinearSVC(C=0.1, dual=False, max_iter=5000, penalty='l1')\n",
      "Cross-validation score: 0.9426141563318501\n",
      "\n",
      "Current label: Species\n",
      "LinearSVC(C=0.1, dual=False, max_iter=5000, penalty='l1')\n",
      "Cross-validation score: 0.9499585818422795\n",
      "\n",
      "CPU times: total: 1.28 s\n",
      "Wall time: 8.33 s\n"
     ]
    }
   ],
   "source": [
    "%%time\n",
    "# Train on very small parameter pairs\n",
    "svm_linear(C_small)"
   ]
  },
  {
   "cell_type": "markdown",
   "id": "270be9f8",
   "metadata": {},
   "source": [
    "As we can see from the result runing models on the large parameters and small parameters, we would generate new sets of parameters in log increasement in the range of $\\log(\\lambda) \\in \\{-1, 1\\}$ and then select it by running cross-validation."
   ]
  },
  {
   "cell_type": "markdown",
   "id": "007fc9de",
   "metadata": {},
   "source": [
    "#### L1-penalized SVMs - The Final Model"
   ]
  },
  {
   "cell_type": "code",
   "execution_count": 15,
   "id": "f82074a3",
   "metadata": {},
   "outputs": [
    {
     "name": "stdout",
     "output_type": "stream",
     "text": [
      "[ 0.1         0.1274275   0.16237767  0.20691381  0.26366509  0.33598183\n",
      "  0.42813324  0.54555948  0.6951928   0.88586679  1.12883789  1.43844989\n",
      "  1.83298071  2.33572147  2.97635144  3.79269019  4.83293024  6.15848211\n",
      "  7.8475997  10.        ]\n"
     ]
    }
   ],
   "source": [
    "# Create paramter sets\n",
    "C = np.logspace(-1, 1, 20)\n",
    "print(C)"
   ]
  },
  {
   "cell_type": "code",
   "execution_count": 16,
   "id": "577cf489",
   "metadata": {},
   "outputs": [
    {
     "name": "stdout",
     "output_type": "stream",
     "text": [
      "Current label: Family\n",
      "LinearSVC(C=0.6951927961775606, dual=False, max_iter=5000, penalty='l1')\n",
      "Cross-validation score: 0.9410260658272588\n",
      "Train exact match: 0.9424146147736299\n",
      "Train hamming loss: 0.057585385226370134\n",
      "Test exact match: 0.9282075034738305\n",
      "Test hamming loss: 0.07179249652616952\n",
      "\n",
      "Current label: Genus\n",
      "LinearSVC(C=10.0, dual=False, max_iter=5000, penalty='l1')\n",
      "Cross-validation score: 0.9527422764997319\n",
      "Train exact match: 0.9563145353455124\n",
      "Train hamming loss: 0.043685464654487687\n",
      "Test exact match: 0.9416396479851783\n",
      "Test hamming loss: 0.058360352014821676\n",
      "\n",
      "Current label: Species\n",
      "LinearSVC(C=1.8329807108324356, dual=False, max_iter=5000, penalty='l1')\n",
      "Cross-validation score: 0.9604839218656316\n",
      "Train exact match: 0.9634630659253376\n",
      "Train hamming loss: 0.03653693407466243\n",
      "Test exact match: 0.9587772116720704\n",
      "Test hamming loss: 0.041222788327929596\n",
      "\n",
      "CPU times: total: 4.48 s\n",
      "Wall time: 2min 11s\n"
     ]
    }
   ],
   "source": [
    "%%time\n",
    "# Parameter setting\n",
    "params = {\n",
    "    'penalty': ['l1'],\n",
    "    'dual': [False],\n",
    "    'C': C,\n",
    "    'multi_class': ['ovr'],\n",
    "    'max_iter': [5000]\n",
    "}\n",
    "# Define GridSearchCV object\n",
    "svclassifier = GridSearchCV(estimator=LinearSVC(), param_grid=params, cv=10, n_jobs=8)\n",
    "# Fit LinearSVC for each label\n",
    "for label in y_train.columns:\n",
    "    svclassifier.fit(X_train_stand, y_train[label])\n",
    "    # Prediction on training and testing set\n",
    "    y_train_pred = svclassifier.predict(X_train_stand)\n",
    "    y_test_pred = svclassifier.predict(X_test_stand)\n",
    "    cv_score = svclassifier.best_score_\n",
    "    # Obtain exact match score\n",
    "    train_score = accuracy_score(y_train[label], y_train_pred)\n",
    "    test_score = accuracy_score(y_test[label], y_test_pred)\n",
    "    # Obtain hamming loss\n",
    "    hamming_loss_train = hamming_loss(y_train[label], y_train_pred)\n",
    "    hamming_loss_test = hamming_loss(y_test[label], y_test_pred)\n",
    "    \n",
    "    \n",
    "    # Report model statistics\n",
    "    print(\"Current label:\", label)\n",
    "    print(svclassifier.best_estimator_)\n",
    "    print(f'Cross-validation score: {cv_score}')\n",
    "    print(f'Train exact match: {train_score}\\nTrain hamming loss: {hamming_loss_train}')\n",
    "    print(f'Test exact match: {test_score}\\nTest hamming loss: {hamming_loss_test}\\n')"
   ]
  },
  {
   "cell_type": "markdown",
   "id": "98a5c169",
   "metadata": {},
   "source": [
    "The weight of the L1-penalized SVM for each label is shown above. We observe that the weight is different from each other given different labels.\n",
    "\n",
    "Additionally, we see that the SVM performs better than the L1-penalized SVM from result we obtained on the testing data set."
   ]
  },
  {
   "cell_type": "markdown",
   "id": "62e9348e",
   "metadata": {},
   "source": [
    "### iv.\n",
    "Repeat 1(b)iii by using SMOTE or any other method you know to remedy class imbalance. Report your conclusions about the classifiers you trained."
   ]
  },
  {
   "cell_type": "code",
   "execution_count": 17,
   "id": "329313d1",
   "metadata": {},
   "outputs": [
    {
     "data": {
      "text/plain": [
       "Leptodactylidae    4420\n",
       "Hylidae            2165\n",
       "Dendrobatidae       542\n",
       "Bufonidae            68\n",
       "Name: Family, dtype: int64"
      ]
     },
     "metadata": {},
     "output_type": "display_data"
    },
    {
     "data": {
      "text/plain": [
       "Adenomera        4150\n",
       "Hypsiboas        1593\n",
       "Ameerega          542\n",
       "Dendropsophus     310\n",
       "Leptodactylus     270\n",
       "Scinax            148\n",
       "Osteocephalus     114\n",
       "Rhinella           68\n",
       "Name: Genus, dtype: int64"
      ]
     },
     "metadata": {},
     "output_type": "display_data"
    },
    {
     "data": {
      "text/plain": [
       "AdenomeraHylaedactylus    3478\n",
       "HypsiboasCordobae         1121\n",
       "AdenomeraAndre             672\n",
       "Ameeregatrivittata         542\n",
       "HypsiboasCinerascens       472\n",
       "HylaMinuta                 310\n",
       "LeptodactylusFuscus        270\n",
       "ScinaxRuber                148\n",
       "OsteocephalusOophagus      114\n",
       "Rhinellagranulosa           68\n",
       "Name: Species, dtype: int64"
      ]
     },
     "metadata": {},
     "output_type": "display_data"
    }
   ],
   "source": [
    "# Check class distribution in each label\n",
    "for label in y_train.columns:\n",
    "    display(AnuranCalls[label].value_counts())"
   ]
  },
  {
   "cell_type": "markdown",
   "id": "b36a30df",
   "metadata": {},
   "source": [
    "We see that there are some kind of class imbalance in each of the labels. Especially in the label \"Genus\" and \"Species\". We can further visualize the class imbalane by plotting them out."
   ]
  },
  {
   "cell_type": "code",
   "execution_count": 18,
   "id": "30003b3c",
   "metadata": {
    "scrolled": false
   },
   "outputs": [
    {
     "data": {
      "image/png": "[encoded data removed]",
      "text/plain": [
       "<Figure size 640x480 with 1 Axes>"
      ]
     },
     "metadata": {},
     "output_type": "display_data"
    },
    {
     "data": {
      "image/png": "[encoded data removed]",
      "text/plain": [
       "<Figure size 640x480 with 1 Axes>"
      ]
     },
     "metadata": {},
     "output_type": "display_data"
    },
    {
     "data": {
      "image/png": "[encoded data removed]",
      "text/plain": [
       "<Figure size 640x480 with 1 Axes>"
      ]
     },
     "metadata": {},
     "output_type": "display_data"
    }
   ],
   "source": [
    "# Plot class distribution in each label\n",
    "for label in y_train.columns:\n",
    "    if label == \"Species\":\n",
    "        pd.value_counts(AnuranCalls[label]).plot.bar()\n",
    "    else:\n",
    "        pd.value_counts(AnuranCalls[label]).plot.bar(rot=45)\n",
    "    plt.title(label)\n",
    "    plt.show()"
   ]
  },
  {
   "cell_type": "markdown",
   "id": "07378c00",
   "metadata": {},
   "source": [
    "We can see that class imbalance exists among different labels. To deal with the class imbalance, let's use SMOTE."
   ]
  },
  {
   "cell_type": "markdown",
   "id": "9e8cc462",
   "metadata": {},
   "source": [
    "#### L1-penalized SVMs with SMOTE - Large Parameters"
   ]
  },
  {
   "cell_type": "code",
   "execution_count": 19,
   "id": "125849e8",
   "metadata": {},
   "outputs": [
    {
     "name": "stdout",
     "output_type": "stream",
     "text": [
      "Current label: Family\n",
      "Pipeline(steps=[('smote', SMOTE(random_state=42)),\n",
      "                ['svm',\n",
      "                 LinearSVC(C=10, dual=False, max_iter=5000, penalty='l1')]])\n",
      "Cross-validation score: 0.9213697970904731\n",
      "\n",
      "Current label: Genus\n",
      "Pipeline(steps=[('smote', SMOTE(random_state=42)),\n",
      "                ['svm',\n",
      "                 LinearSVC(C=100, dual=False, max_iter=5000, penalty='l1')]])\n",
      "Cross-validation score: 0.9128301618858281\n",
      "\n",
      "Current label: Species\n",
      "Pipeline(steps=[('smote', SMOTE(random_state=42)),\n",
      "                ['svm',\n",
      "                 LinearSVC(C=1, dual=False, max_iter=5000, penalty='l1')]])\n",
      "Cross-validation score: 0.9569081542491086\n",
      "\n",
      "CPU times: total: 35 s\n",
      "Wall time: 6min 16s\n"
     ]
    }
   ],
   "source": [
    "%%time\n",
    "# Set up pipeline\n",
    "pipeline = imbpipeline(steps = [['smote', SMOTE(random_state=42)],  # Use SMOTE in each iteration\n",
    "                                ['svm', LinearSVC()]])\n",
    "\n",
    "# Define \"large parameters\" setting\n",
    "params = {\n",
    "    'svm__penalty': ['l1'],\n",
    "    'svm__dual': [False],\n",
    "    'svm__C': C_large,\n",
    "    'svm__multi_class': ['ovr'],\n",
    "    'svm__max_iter': [5000]\n",
    "}\n",
    "\n",
    "# Define GridSearchCV object\n",
    "svclassifier = GridSearchCV(estimator=pipeline,\n",
    "                            param_grid=params,\n",
    "                            cv=10,\n",
    "                            n_jobs=8)\n",
    "\n",
    "# Fit LinearSVC for each label\n",
    "for label in y_train.columns:\n",
    "    svclassifier.fit(X_train_stand, y_train[label])\n",
    "    cv_score = svclassifier.best_score_\n",
    "\n",
    "    # Report model statistics\n",
    "    print(\"Current label:\", label)\n",
    "    print(svclassifier.best_estimator_)\n",
    "    print(f'Cross-validation score: {cv_score}\\n')"
   ]
  },
  {
   "cell_type": "markdown",
   "id": "95a4e91f",
   "metadata": {},
   "source": [
    "#### L1-penalized SVMs with SMOTE - Small Parameters"
   ]
  },
  {
   "cell_type": "code",
   "execution_count": 20,
   "id": "729e2958",
   "metadata": {},
   "outputs": [
    {
     "name": "stdout",
     "output_type": "stream",
     "text": [
      "Current label: Family\n",
      "Pipeline(steps=[('smote', SMOTE(random_state=42)),\n",
      "                ['svm',\n",
      "                 LinearSVC(C=0.1, dual=False, max_iter=5000, penalty='l1')]])\n",
      "Cross-validation score: 0.9199809082015842\n",
      "\n",
      "Current label: Genus\n",
      "Pipeline(steps=[('smote', SMOTE(random_state=42)),\n",
      "                ['svm',\n",
      "                 LinearSVC(C=0.1, dual=False, max_iter=5000, penalty='l1')]])\n",
      "Cross-validation score: 0.9108428792325413\n",
      "\n",
      "Current label: Species\n",
      "Pipeline(steps=[('smote', SMOTE(random_state=42)),\n",
      "                ['svm',\n",
      "                 LinearSVC(C=0.1, dual=False, max_iter=5000, penalty='l1')]])\n",
      "Cross-validation score: 0.9557180725172773\n",
      "\n",
      "CPU times: total: 32.5 s\n",
      "Wall time: 2min 19s\n"
     ]
    }
   ],
   "source": [
    "%%time\n",
    "# Set up pipeline\n",
    "pipeline = imbpipeline(steps = [['smote', SMOTE(random_state=42)],  # Use SMOTE in each iteration\n",
    "                                ['svm', LinearSVC()]])\n",
    "\n",
    "# Define \"small parameters\" setting\n",
    "params = {\n",
    "    'svm__penalty': ['l1'],\n",
    "    'svm__dual': [False],\n",
    "    'svm__C': C_small,\n",
    "    'svm__multi_class': ['ovr'],\n",
    "    'svm__max_iter': [5000]\n",
    "}\n",
    "\n",
    "# Define GridSearchCV object\n",
    "svclassifier = GridSearchCV(estimator=pipeline,\n",
    "                            param_grid=params,\n",
    "                            cv=10,\n",
    "                            n_jobs=8)\n",
    "\n",
    "# Fit LinearSVC for each label\n",
    "for label in y_train.columns:\n",
    "    svclassifier.fit(X_train_stand, y_train[label])\n",
    "    cv_score = svclassifier.best_score_\n",
    "\n",
    "    # Report model statistics\n",
    "    print(\"Current label:\", label)\n",
    "    print(svclassifier.best_estimator_)\n",
    "    print(f'Cross-validation score: {cv_score}\\n')"
   ]
  },
  {
   "cell_type": "markdown",
   "id": "4c1e608f",
   "metadata": {},
   "source": [
    "We use similar method to narrow down the range of parameters, and then we pick the optiaml one by using cross validation."
   ]
  },
  {
   "cell_type": "markdown",
   "id": "3929926b",
   "metadata": {},
   "source": [
    "#### L1-penalized SVMs with SMOTE - The Final Model"
   ]
  },
  {
   "cell_type": "markdown",
   "id": "a6153b59",
   "metadata": {},
   "source": [
    "Choose some lambda."
   ]
  },
  {
   "cell_type": "code",
   "execution_count": 21,
   "id": "63a827f0",
   "metadata": {},
   "outputs": [
    {
     "name": "stdout",
     "output_type": "stream",
     "text": [
      "[ 0.1         0.1274275   0.16237767  0.20691381  0.26366509  0.33598183\n",
      "  0.42813324  0.54555948  0.6951928   0.88586679  1.12883789  1.43844989\n",
      "  1.83298071  2.33572147  2.97635144  3.79269019  4.83293024  6.15848211\n",
      "  7.8475997  10.        ]\n"
     ]
    }
   ],
   "source": [
    "# Create paramter sets\n",
    "C = np.logspace(-1, 1, 20)\n",
    "print(C)"
   ]
  },
  {
   "cell_type": "code",
   "execution_count": 22,
   "id": "5102efc4",
   "metadata": {},
   "outputs": [
    {
     "name": "stdout",
     "output_type": "stream",
     "text": [
      "Current label: Family\n",
      "Pipeline(steps=[('smote', SMOTE(random_state=42)),\n",
      "                ['svm',\n",
      "                 LinearSVC(C=2.9763514416313175, dual=False, max_iter=5000,\n",
      "                           penalty='l1')]])\n",
      "Cross-validation score: 0.9213697970904731\n",
      "Train exact match: 0.9241461477362987\n",
      "Train hamming loss: 0.07585385226370135\n",
      "Test exact match: 0.9092172301991662\n",
      "Test hamming loss: 0.09078276980083372\n",
      "\n",
      "Current label: Genus\n",
      "Pipeline(steps=[('smote', SMOTE(random_state=42)),\n",
      "                ['svm',\n",
      "                 LinearSVC(C=4.832930238571752, dual=False, max_iter=5000,\n",
      "                           penalty='l1')]])\n",
      "Cross-validation score: 0.9128297674271829\n",
      "Train exact match: 0.920571882446386\n",
      "Train hamming loss: 0.07942811755361398\n",
      "Test exact match: 0.9018063918480778\n",
      "Test hamming loss: 0.09819360815192218\n",
      "\n",
      "Current label: Species\n",
      "Pipeline(steps=[('smote', SMOTE(random_state=42)),\n",
      "                ['svm',\n",
      "                 LinearSVC(C=0.33598182862837817, dual=False, max_iter=5000,\n",
      "                           penalty='l1')]])\n",
      "Cross-validation score: 0.9577025939600491\n",
      "Train exact match: 0.9636616362192216\n",
      "Train hamming loss: 0.0363383637807784\n",
      "Test exact match: 0.9578508568781844\n",
      "Test hamming loss: 0.042149143121815655\n",
      "\n",
      "CPU times: total: 34.7 s\n",
      "Wall time: 20min 39s\n"
     ]
    }
   ],
   "source": [
    "%%time\n",
    "# Set up pipeline\n",
    "pipeline = imbpipeline(steps = [['smote', SMOTE(random_state=42)],  # Use SMOTE in each iteration\n",
    "                                ['svm', LinearSVC()]])\n",
    "\n",
    "# Define \"small parameters\" setting\n",
    "params = {\n",
    "    'svm__penalty': ['l1'],\n",
    "    'svm__dual': [False],\n",
    "    'svm__C': C,\n",
    "    'svm__multi_class': ['ovr'],\n",
    "    'svm__max_iter': [5000]\n",
    "}\n",
    "\n",
    "# Define GridSearchCV object\n",
    "svclassifier = GridSearchCV(estimator=pipeline,\n",
    "                            param_grid=params,\n",
    "                            cv=10,\n",
    "                            n_jobs=8)\n",
    "\n",
    "# Fit LinearSVC for each label\n",
    "for label in y_train.columns:\n",
    "    svclassifier.fit(X_train_stand, y_train[label])\n",
    "    # Prediction on training and testing set\n",
    "    y_train_pred = svclassifier.predict(X_train_stand)\n",
    "    y_test_pred = svclassifier.predict(X_test_stand)\n",
    "    cv_score = svclassifier.best_score_\n",
    "    # Obtain exact match score\n",
    "    train_score = accuracy_score(y_train[label], y_train_pred)\n",
    "    test_score = accuracy_score(y_test[label], y_test_pred)\n",
    "    # Obtain hamming loss\n",
    "    hamming_loss_train = hamming_loss(y_train[label], y_train_pred)\n",
    "    hamming_loss_test = hamming_loss(y_test[label], y_test_pred)\n",
    "    \n",
    "    \n",
    "    # Report model statistics\n",
    "    print(\"Current label:\", label)\n",
    "    print(svclassifier.best_estimator_)\n",
    "    print(f'Cross-validation score: {cv_score}')\n",
    "    print(f'Train exact match: {train_score}\\nTrain hamming loss: {hamming_loss_train}')\n",
    "    print(f'Test exact match: {test_score}\\nTest hamming loss: {hamming_loss_test}\\n')"
   ]
  },
  {
   "cell_type": "markdown",
   "id": "bea8a569",
   "metadata": {},
   "source": [
    "We see that the model with the implementation of SMOTE choose a distinct set of values. In the class \"Species\", the model with the implementation of SMOTE seems performing better."
   ]
  },
  {
   "cell_type": "markdown",
   "id": "3721e13e",
   "metadata": {},
   "source": [
    "# 2. K-Means Clustering on a Multi-Class and Multi-Label Data Set\n",
    "**Monte-Carlo Simulation:** Perform the following procedures 50 times, and report\n",
    "the average and standard deviation of the 50 Hamming Distances that you calculate."
   ]
  },
  {
   "cell_type": "markdown",
   "id": "2d2a4409",
   "metadata": {},
   "source": [
    "I perform one itration first following part (a), (b), and (c). Then I perform Monte-Carlo simulation."
   ]
  },
  {
   "cell_type": "markdown",
   "id": "2c9f6ff2",
   "metadata": {},
   "source": [
    "## (a)\n",
    "Use k-means clustering on the whole Anuran Calls (MFCCs) Data Set (do not split the data into train and test, as we are not performing supervised learning in this exercise). Choose $k \\in \\{1, 2, \\dots, 50\\}$ automatically based on one of the methods provided in the slides (CH or Gap Statistics or scree plots or Silhouettes) or any other method you know."
   ]
  },
  {
   "cell_type": "code",
   "execution_count": 23,
   "id": "1cd05152",
   "metadata": {},
   "outputs": [],
   "source": [
    "# Obtain labels and features from AnuranCalls\n",
    "AnuranCalls_features = AnuranCalls.iloc[:, :-3]\n",
    "AnuranCalls_labels = AnuranCalls.iloc[:, -3:]"
   ]
  },
  {
   "cell_type": "code",
   "execution_count": 24,
   "id": "3aab1343",
   "metadata": {},
   "outputs": [
    {
     "name": "stdout",
     "output_type": "stream",
     "text": [
      "CPU times: total: 5min 14s\n",
      "Wall time: 54.8 s\n"
     ]
    }
   ],
   "source": [
    "%%time\n",
    "# Use Silhouettes to find optimal K\n",
    "sil_score = list()\n",
    "k_range = [i for i in range(2, 51)]\n",
    "# Start from k=2 as Silhouette Coefficient is only defined \n",
    "# if number of labels is 2 <= n_labels <= n_samples - 1\n",
    "for k in k_range:\n",
    "    kmeans = KMeans(n_clusters=k, \n",
    "                    init=\"k-means++\", \n",
    "                    n_init=10, \n",
    "                   )\n",
    "    kmeans.fit(AnuranCalls_features)\n",
    "    score = silhouette_score(AnuranCalls_features, kmeans.labels_)\n",
    "    sil_score.append(score)"
   ]
  },
  {
   "cell_type": "code",
   "execution_count": 25,
   "id": "f94bf14f",
   "metadata": {},
   "outputs": [
    {
     "name": "stdout",
     "output_type": "stream",
     "text": [
      "Optimal value of k: 4\n"
     ]
    }
   ],
   "source": [
    "# Find optimal K\n",
    "optimal_k = np.argmax(sil_score)+2\n",
    "print(\"Optimal value of k:\", optimal_k)"
   ]
  },
  {
   "cell_type": "code",
   "execution_count": 26,
   "id": "ed379db3",
   "metadata": {},
   "outputs": [
    {
     "data": {
      "text/html": [
       "<div>\n",
       "<style scoped>\n",
       "    .dataframe tbody tr th:only-of-type {\n",
       "        vertical-align: middle;\n",
       "    }\n",
       "\n",
       "    .dataframe tbody tr th {\n",
       "        vertical-align: top;\n",
       "    }\n",
       "\n",
       "    .dataframe thead th {\n",
       "        text-align: right;\n",
       "    }\n",
       "</style>\n",
       "<table border=\"1\" class=\"dataframe\">\n",
       "  <thead>\n",
       "    <tr style=\"text-align: right;\">\n",
       "      <th></th>\n",
       "      <th>cluster</th>\n",
       "      <th>sil_score</th>\n",
       "    </tr>\n",
       "  </thead>\n",
       "  <tbody>\n",
       "    <tr>\n",
       "      <th>2</th>\n",
       "      <td>4</td>\n",
       "      <td>0.378751</td>\n",
       "    </tr>\n",
       "    <tr>\n",
       "      <th>3</th>\n",
       "      <td>5</td>\n",
       "      <td>0.371483</td>\n",
       "    </tr>\n",
       "    <tr>\n",
       "      <th>1</th>\n",
       "      <td>3</td>\n",
       "      <td>0.367693</td>\n",
       "    </tr>\n",
       "    <tr>\n",
       "      <th>0</th>\n",
       "      <td>2</td>\n",
       "      <td>0.348678</td>\n",
       "    </tr>\n",
       "    <tr>\n",
       "      <th>13</th>\n",
       "      <td>15</td>\n",
       "      <td>0.288771</td>\n",
       "    </tr>\n",
       "  </tbody>\n",
       "</table>\n",
       "</div>"
      ],
      "text/plain": [
       "    cluster  sil_score\n",
       "2         4   0.378751\n",
       "3         5   0.371483\n",
       "1         3   0.367693\n",
       "0         2   0.348678\n",
       "13       15   0.288771"
      ]
     },
     "metadata": {},
     "output_type": "display_data"
    }
   ],
   "source": [
    "# Report Silhouettes highest score\n",
    "sil_score_df = pd.DataFrame({'cluster' : k_range, 'sil_score' : sil_score})\n",
    "display(sil_score_df.sort_values(by=['sil_score'], ascending=False).head(5))"
   ]
  },
  {
   "cell_type": "code",
   "execution_count": 27,
   "id": "296d2028",
   "metadata": {},
   "outputs": [
    {
     "data": {
      "image/png": "[encoded data removed]",
      "text/plain": [
       "<Figure size 640x480 with 1 Axes>"
      ]
     },
     "metadata": {},
     "output_type": "display_data"
    }
   ],
   "source": [
    "# Plot result\n",
    "plt.plot('cluster', 'sil_score', data=sil_score_df)\n",
    "plt.xlabel(\"Number of clusters\")\n",
    "plt.ylabel(\"Silhouettes scores\")\n",
    "plt.title(\"Silhouettes\")\n",
    "plt.show()"
   ]
  },
  {
   "cell_type": "markdown",
   "id": "eddf477e",
   "metadata": {},
   "source": [
    "From the result above, we see that the number of clusters = 4 is a reasonable choice for our data."
   ]
  },
  {
   "cell_type": "markdown",
   "id": "faad023f",
   "metadata": {},
   "source": [
    "## (b) \n",
    "In each cluster, determine which family is the majority by reading the true labels. Repeat for genus and species."
   ]
  },
  {
   "cell_type": "code",
   "execution_count": 28,
   "id": "2ddc61fe",
   "metadata": {},
   "outputs": [],
   "source": [
    "# Fit K-Means with optimal k selected\n",
    "kmeans_model = KMeans(n_clusters=optimal_k, init=\"k-means++\", n_init=10)\n",
    "kmeans_model.fit(AnuranCalls_features)\n",
    "\n",
    "# Generate dataframe to perform analysis\n",
    "kmeans_labels = pd.DataFrame({'labels': kmeans_model.labels_})\n",
    "labels_df = pd.concat([kmeans_labels, AnuranCalls_labels], axis=1)  # Kmeans labels and true labels"
   ]
  },
  {
   "cell_type": "code",
   "execution_count": 29,
   "id": "a15d6f3b",
   "metadata": {},
   "outputs": [],
   "source": [
    "# Hold majority information for each cluster\n",
    "label_majorityclass = dict()\n",
    "\n",
    "# Find majority in each cluster for family, genus, and species\n",
    "for i in range(0, optimal_k):\n",
    "    labels_temp_df = labels_df[labels_df[\"labels\"]==i]  # Obtain subset of dataframe based on cluster number\n",
    "    \n",
    "    majority_name_temp = list()\n",
    "    # Find the majority class in family, genus, and species column\n",
    "    for label in AnuranCalls_labels.columns:\n",
    "        majority_name_temp.append(labels_temp_df[label].value_counts().idxmax())\n",
    "    \n",
    "    # Store information \n",
    "    label_majorityclass[i] = majority_name_temp"
   ]
  },
  {
   "cell_type": "code",
   "execution_count": 30,
   "id": "52e05d6f",
   "metadata": {},
   "outputs": [
    {
     "data": {
      "text/plain": [
       "{0: ['Hylidae', 'Hypsiboas', 'HypsiboasCinerascens'],\n",
       " 1: ['Dendrobatidae', 'Ameerega', 'Ameeregatrivittata'],\n",
       " 2: ['Leptodactylidae', 'Adenomera', 'AdenomeraHylaedactylus'],\n",
       " 3: ['Hylidae', 'Hypsiboas', 'HypsiboasCordobae']}"
      ]
     },
     "execution_count": 30,
     "metadata": {},
     "output_type": "execute_result"
    }
   ],
   "source": [
    "label_majorityclass"
   ]
  },
  {
   "cell_type": "markdown",
   "id": "ead218ca",
   "metadata": {},
   "source": [
    "## (c) \n",
    "Now for each cluster you have a majority label triplet (family, genus, species). Calculate the average Hamming distance, Hamming score, and Hamming loss between the true labels and the labels assigned by clusters."
   ]
  },
  {
   "cell_type": "code",
   "execution_count": 31,
   "id": "cbc7ce88",
   "metadata": {},
   "outputs": [],
   "source": [
    "# Generate class -> index dictionary to help us iterate through information\n",
    "label_index_pointer = dict()\n",
    "index = 0\n",
    "for label in AnuranCalls_labels.columns:\n",
    "    label_index_pointer[label] = index\n",
    "    index += 1"
   ]
  },
  {
   "cell_type": "code",
   "execution_count": 32,
   "id": "7c2f1fb7",
   "metadata": {},
   "outputs": [
    {
     "name": "stdout",
     "output_type": "stream",
     "text": [
      "Average hamming distance: 400.000\n",
      "Average hamming scores: 0.718\n",
      "Average hamming loss: 0.282\n"
     ]
    }
   ],
   "source": [
    "avg_hamming_distance = list()\n",
    "avg_hamming_score = list()\n",
    "avg_hamming_loss = list()\n",
    "\n",
    "hamming_distance = list()\n",
    "\n",
    "hamming_score = list()\n",
    "hamming_loss = list()\n",
    "\n",
    "for i in range(0, optimal_k):\n",
    "    \n",
    "    labels_temp_df = labels_df[labels_df[\"labels\"]==i]\n",
    "    \n",
    "    for label in AnuranCalls_labels.columns:\n",
    "        # Obtain number of collect labels and incorrect labels\n",
    "        Incorrect_labels = (labels_temp_df[label]!=label_majorityclass[i][label_index_pointer[label]]).sum()\n",
    "        Correct_labels = (labels_temp_df[label]==label_majorityclass[i][label_index_pointer[label]]).sum()\n",
    "        # Calculate hamming distance and store\n",
    "        hamming_distance.append(Incorrect_labels)\n",
    "        # Calculate hamming scores and store\n",
    "        hamming_score.append(Correct_labels/labels_temp_df.shape[0])\n",
    "        # Calculate hamming loss and store\n",
    "        hamming_loss.append(Incorrect_labels/labels_temp_df.shape[0])\n",
    "    \n",
    "    # Calculate average hamming distanc, hamming scores, and hamming loss\n",
    "    avg_hamming_distance = statistics.mean(hamming_distance)\n",
    "    avg_hamming_score = statistics.mean(hamming_score)\n",
    "    avg_hamming_loss = statistics.mean(hamming_loss)\n",
    "\n",
    "# Report statistics\n",
    "print(f\"Average hamming distance: {avg_hamming_distance:.3f}\")\n",
    "print(f\"Average hamming scores: {avg_hamming_score:.3f}\")\n",
    "print(f\"Average hamming loss: {avg_hamming_loss:.3f}\")"
   ]
  },
  {
   "cell_type": "markdown",
   "id": "885a20a3",
   "metadata": {},
   "source": [
    "### Monte-Carlo Simulation"
   ]
  },
  {
   "cell_type": "code",
   "execution_count": 33,
   "id": "920bc7a2",
   "metadata": {
    "scrolled": false
   },
   "outputs": [
    {
     "data": {
      "application/vnd.jupyter.widget-view+json": {
       "model_id": "80fa77131910457eb7c7e81be1bd6ece",
       "version_major": 2,
       "version_minor": 0
      },
      "text/plain": [
       "  0%|          | 0/50 [00:00<?, ?it/s]"
      ]
     },
     "metadata": {},
     "output_type": "display_data"
    },
    {
     "name": "stdout",
     "output_type": "stream",
     "text": [
      "Current iteration: 1\n",
      "Average hamming distance: 400.000\n",
      "Average hamming scores: 0.718\n",
      "Average hamming loss: 0.282\n",
      "\n",
      "Current iteration: 11\n",
      "Average hamming distance: 400.000\n",
      "Average hamming scores: 0.718\n",
      "Average hamming loss: 0.282\n",
      "\n",
      "Current iteration: 21\n",
      "Average hamming distance: 400.000\n",
      "Average hamming scores: 0.718\n",
      "Average hamming loss: 0.282\n",
      "\n",
      "Current iteration: 31\n",
      "Average hamming distance: 400.000\n",
      "Average hamming scores: 0.718\n",
      "Average hamming loss: 0.282\n",
      "\n",
      "Current iteration: 41\n",
      "Average hamming distance: 400.000\n",
      "Average hamming scores: 0.718\n",
      "Average hamming loss: 0.282\n",
      "\n"
     ]
    }
   ],
   "source": [
    "montecarlo_hamming_distance = list()\n",
    "montecarlo_hamming_score = list()\n",
    "montecarlo_hamming_loss = list()\n",
    "\n",
    "for num_iteration in tqdm_notebook(range(50)):\n",
    "    \"\"\" \n",
    "    Part(a)\n",
    "    \"\"\"\n",
    "    sil_score = list()\n",
    "    k_range = [i for i in range(2, 51)]\n",
    "    # Start from k=2 as Silhouette Coefficient is only defined \n",
    "    # if number of labels is 2 <= n_labels <= n_samples - 1\n",
    "    for k in k_range:\n",
    "        kmeans = KMeans(n_clusters=k, \n",
    "                        init=\"k-means++\", \n",
    "                        n_init=10, \n",
    "                       )\n",
    "        kmeans.fit(AnuranCalls_features)\n",
    "        score = silhouette_score(AnuranCalls_features, kmeans.labels_)\n",
    "        sil_score.append(score)\n",
    "    \n",
    "    # Find optimal K\n",
    "    optimal_k = np.argmax(sil_score)+2\n",
    "    \n",
    "    \"\"\"\n",
    "    Part(b)\n",
    "    \"\"\"\n",
    "    # Fit K-Means with optimal k selected\n",
    "    kmeans_model = KMeans(n_clusters=optimal_k, init=\"k-means++\", n_init=10)\n",
    "    kmeans_model.fit(AnuranCalls_features)\n",
    "\n",
    "    # Generate dataframe to perform analysis\n",
    "    kmeans_labels = pd.DataFrame({'labels': kmeans_model.labels_})\n",
    "    labels_df = pd.concat([kmeans_labels, AnuranCalls_labels], axis=1)  # Kmeans labels and true labels\n",
    "    \n",
    "    # Hold majority information for each cluster\n",
    "    label_majorityclass = dict()\n",
    "\n",
    "    # Find majority in each cluster for family, genus, and species\n",
    "    for i in range(0, optimal_k):\n",
    "        labels_temp_df = labels_df[labels_df[\"labels\"]==i]  # Obtain subset of dataframe based on cluster number\n",
    "\n",
    "        majority_name_temp = list()\n",
    "        # Find the majority class in family, genus, and species column\n",
    "        for label in AnuranCalls_labels.columns:\n",
    "            majority_name_temp.append(labels_temp_df[label].value_counts().idxmax())\n",
    "\n",
    "        # Store information \n",
    "        label_majorityclass[i] = majority_name_temp\n",
    "\n",
    "    # print(label_majorityclass)\n",
    "    \n",
    "    \"\"\"\n",
    "    Part(c)\n",
    "    \"\"\"\n",
    "    avg_hamming_distance = list()\n",
    "    avg_hamming_score = list()\n",
    "    avg_hamming_loss = list()\n",
    "\n",
    "    hamming_distance = list()\n",
    "    hamming_score = list()\n",
    "    hamming_loss = list()\n",
    "\n",
    "    for i in range(0, optimal_k):\n",
    "\n",
    "        labels_temp_df = labels_df[labels_df[\"labels\"]==i]\n",
    "\n",
    "        for label in AnuranCalls_labels.columns:\n",
    "            # Obtain number of collect labels and incorrect labels\n",
    "            Incorrect_labels = (labels_temp_df[label]!=label_majorityclass[i][label_index_pointer[label]]).sum()\n",
    "            Correct_labels = (labels_temp_df[label]==label_majorityclass[i][label_index_pointer[label]]).sum()\n",
    "            # Calculate hamming distance and store\n",
    "            hamming_distance.append(Incorrect_labels)\n",
    "            # Calculate hamming scores and store\n",
    "            hamming_score.append(Correct_labels/labels_temp_df.shape[0])\n",
    "            # Calculate hamming loss and store\n",
    "            hamming_loss.append(Incorrect_labels/labels_temp_df.shape[0])\n",
    "\n",
    "        # Calculate average hamming distance, hamming scores, and hamming loss\n",
    "        avg_hamming_distance = statistics.mean(hamming_distance)\n",
    "        avg_hamming_score = statistics.mean(hamming_score)\n",
    "        avg_hamming_loss = statistics.mean(hamming_loss)\n",
    "    \n",
    "    # Save result for each run\n",
    "    montecarlo_hamming_distance.append(avg_hamming_distance)\n",
    "    montecarlo_hamming_score.append(avg_hamming_score)\n",
    "    montecarlo_hamming_loss.append(avg_hamming_loss)\n",
    "    \n",
    "    # Output iteration result every 10 iteration\n",
    "    if num_iteration%10 == 0:\n",
    "        print(\"Current iteration:\", num_iteration+1)\n",
    "        print(f\"Average hamming distance: {avg_hamming_distance:.3f}\")\n",
    "        print(f\"Average hamming scores: {avg_hamming_score:.3f}\")\n",
    "        print(f\"Average hamming loss: {avg_hamming_loss:.3f}\\n\")"
   ]
  },
  {
   "cell_type": "code",
   "execution_count": 34,
   "id": "ead16c75",
   "metadata": {},
   "outputs": [
    {
     "name": "stdout",
     "output_type": "stream",
     "text": [
      "Average hamming distance: 404.000\n",
      "Standard deviation: 17.088\n"
     ]
    }
   ],
   "source": [
    "# Report result of average and standard deviation of hamming distance after 50 iterations\n",
    "average_montecarlo_hamming_distance = statistics.mean(montecarlo_hamming_distance)\n",
    "stdev_montecarlo_hamming_distance = statistics.stdev(montecarlo_hamming_distance)\n",
    "\n",
    "print(f\"Average hamming distance: {average_montecarlo_hamming_distance:.3f}\")\n",
    "print(f\"Standard deviation: {stdev_montecarlo_hamming_distance:.3f}\")"
   ]
  },
  {
   "cell_type": "markdown",
   "id": "262b41dd",
   "metadata": {},
   "source": [
    "# 3. ISLR 12.6.2"
   ]
  },
  {
   "cell_type": "markdown",
   "id": "2f8491a0",
   "metadata": {},
   "source": [
    "## (a) \n",
    "On the basis of this dissimilarity matrix, sketch the dendrogram that results from hierarchically clustering these four observations using complete linkage. Be sure to indicate on the plot the height at which each fusion occurs, as well as the observations corresponding to each leaf in the dendrogram."
   ]
  },
  {
   "cell_type": "markdown",
   "id": "e0e8e206",
   "metadata": {},
   "source": [
    "If the image does not show up, please refer to Qa.png in the notebook folder.\n",
    "\n",
    "![Question (a)](../notebook/Qa.png)"
   ]
  },
  {
   "cell_type": "markdown",
   "id": "33e3974e",
   "metadata": {},
   "source": [
    "## (b)\n",
    "Repeat (a), this time using single linkage clustering."
   ]
  },
  {
   "cell_type": "markdown",
   "id": "69a1fdf2",
   "metadata": {},
   "source": [
    "If the image does not show up, please refer to Qb.png in the notebook folder.\n",
    "\n",
    "![Question (b)](../notebook/Qb.png)"
   ]
  },
  {
   "cell_type": "markdown",
   "id": "e520511f",
   "metadata": {},
   "source": [
    "## (c) \n",
    "Suppose that we cut the dendrogram obtained in (a) such that two clusters result. Which observations are in each cluster?f"
   ]
  },
  {
   "cell_type": "markdown",
   "id": "5cf9f677",
   "metadata": {},
   "source": [
    "We will have cluster (1, 2) and (3, 4)."
   ]
  },
  {
   "cell_type": "markdown",
   "id": "ed50c52a",
   "metadata": {},
   "source": [
    "## (d)\n",
    "Suppose that we cut the dendrogram obtained in (b) such that two clusters result. Which observations are in each cluster?"
   ]
  },
  {
   "cell_type": "markdown",
   "id": "9091ade7",
   "metadata": {},
   "source": [
    "We will obtain ((1, 2), 3) and (4)."
   ]
  },
  {
   "cell_type": "markdown",
   "id": "a18a214a",
   "metadata": {},
   "source": [
    "## (e)\n",
    "It is mentioned in the chapter that at each fusion in the dendrogram, the position of the two clusters being fused can be swapped without changing the meaning of the dendrogram. Draw a dendrogram that is equivalent to the dendrogram in (a), for which two or more of the leaves are repositioned, but for which the meaning of the dendrogram is the same."
   ]
  },
  {
   "cell_type": "markdown",
   "id": "05be6d6f",
   "metadata": {},
   "source": [
    "If the image does not show up, please refer to Qe.png in the notebook folder.\n",
    "\n",
    "![Question (e)](../notebook/Qe.png)"
   ]
  },
  {
   "cell_type": "markdown",
   "id": "e50d849b",
   "metadata": {},
   "source": [
    "# Reference\n",
    "\n",
    "[Normalization vs Standardization — Quantitative analysis](https://towardsdatascience.com/normalization-vs-standardization-quantitative-analysis-a91e8a79cebf)\n",
    "\n",
    "[Selecting the number of clusters with silhouette analysis on KMeans clustering](https://scikit-learn.org/stable/auto_examples/cluster/plot_kmeans_silhouette_analysis.html)\n",
    "\n",
    "[sklearn.metrics.silhouette_score](https://scikit-learn.org/stable/modules/generated/sklearn.metrics.silhouette_score.html)\n",
    "\n",
    "[sklearn.svm.LinearSVC](https://scikit-learn.org/stable/modules/generated/sklearn.svm.LinearSVC.html#sklearn.svm.LinearSVC)\n",
    "\n",
    "[sklearn.svm.SVC](https://scikit-learn.org/stable/modules/generated/sklearn.svm.SVC.html)\n",
    "\n",
    "[Support Vector Machines (SVM) in Python with Sklearn](https://datagy.io/python-support-vector-machines/)"
   ]
  }
 ],
 "metadata": {
  "kernelspec": {
   "display_name": "Python 3 (ipykernel)",
   "language": "python",
   "name": "python3"
  },
  "language_info": {
   "codemirror_mode": {
    "name": "ipython",
    "version": 3
   },
   "file_extension": ".py",
   "mimetype": "text/x-python",
   "name": "python",
   "nbconvert_exporter": "python",
   "pygments_lexer": "ipython3",
   "version": "3.8.8"
  }
 },
 "nbformat": 4,
 "nbformat_minor": 5
}
