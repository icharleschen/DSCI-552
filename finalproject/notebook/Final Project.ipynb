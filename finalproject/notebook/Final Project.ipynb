{
 "cells": [
  {
   "cell_type": "code",
   "execution_count": 1,
   "id": "d8f43c97",
   "metadata": {},
   "outputs": [
    {
     "name": "stdout",
     "output_type": "stream",
     "text": [
      "Tensorflow version: 2.6.0\n",
      "The number of GPUs: 1\n"
     ]
    }
   ],
   "source": [
    "# Import libraires\n",
    "import cv2\n",
    "import math\n",
    "import os, os.path\n",
    "import random\n",
    "import shutil\n",
    "import numpy as np\n",
    "import matplotlib.pyplot as plt\n",
    "import pandas as pd\n",
    "import tensorflow as tf\n",
    "\n",
    "from sklearn.metrics import classification_report\n",
    "from tensorflow.keras import layers, utils\n",
    "from tensorflow.keras.applications import EfficientNetB0, vgg16 \n",
    "from tensorflow.keras.callbacks import EarlyStopping, ModelCheckpoint\n",
    "\n",
    "random.seed(42)\n",
    "print(\"Tensorflow version:\", tf.__version__)\n",
    "print(f\"The number of GPUs: {len(tf.config.list_physical_devices('GPU'))}\")"
   ]
  },
  {
   "cell_type": "markdown",
   "id": "59556d9d",
   "metadata": {},
   "source": [
    "# 1. Transfer Learning for Image Classification"
   ]
  },
  {
   "cell_type": "markdown",
   "id": "86fde7a3",
   "metadata": {},
   "source": [
    "It is highly recommended that you complete this project using Keras and Python."
   ]
  },
  {
   "cell_type": "markdown",
   "id": "1f5e4527",
   "metadata": {},
   "source": [
    "## (a) \n",
    "In this problem, we are trying to build a classifier that distinguishes images of 20 bird species. You are provided with text data in twenty folders."
   ]
  },
  {
   "cell_type": "markdown",
   "id": "9d323c9c",
   "metadata": {},
   "source": [
    "## (b) Data Exploration and Pre-processing"
   ]
  },
  {
   "cell_type": "markdown",
   "id": "c776409c",
   "metadata": {},
   "source": [
    "### i. \n",
    "Images in each class are given in separate folders. The file `Classes.xlsx` provides the classes assigned to the bird species images in each folder. Therefore, you encode your classes using one-hot encoding and `Classes.xlsx`."
   ]
  },
  {
   "cell_type": "code",
   "execution_count": 2,
   "id": "d98a2f34",
   "metadata": {},
   "outputs": [
    {
     "data": {
      "text/html": [
       "<div>\n",
       "<style scoped>\n",
       "    .dataframe tbody tr th:only-of-type {\n",
       "        vertical-align: middle;\n",
       "    }\n",
       "\n",
       "    .dataframe tbody tr th {\n",
       "        vertical-align: top;\n",
       "    }\n",
       "\n",
       "    .dataframe thead th {\n",
       "        text-align: right;\n",
       "    }\n",
       "</style>\n",
       "<table border=\"1\" class=\"dataframe\">\n",
       "  <thead>\n",
       "    <tr style=\"text-align: right;\">\n",
       "      <th></th>\n",
       "      <th>Folder Name</th>\n",
       "      <th>Class</th>\n",
       "    </tr>\n",
       "  </thead>\n",
       "  <tbody>\n",
       "    <tr>\n",
       "      <th>0</th>\n",
       "      <td>005.Crested_Auklet</td>\n",
       "      <td>0</td>\n",
       "    </tr>\n",
       "    <tr>\n",
       "      <th>1</th>\n",
       "      <td>013.Bobolink</td>\n",
       "      <td>1</td>\n",
       "    </tr>\n",
       "    <tr>\n",
       "      <th>2</th>\n",
       "      <td>015.Lazuli_Bunting</td>\n",
       "      <td>2</td>\n",
       "    </tr>\n",
       "    <tr>\n",
       "      <th>3</th>\n",
       "      <td>023.Brandt_Cormorant</td>\n",
       "      <td>3</td>\n",
       "    </tr>\n",
       "    <tr>\n",
       "      <th>4</th>\n",
       "      <td>040.Olive_sided_Flycatcher</td>\n",
       "      <td>4</td>\n",
       "    </tr>\n",
       "    <tr>\n",
       "      <th>5</th>\n",
       "      <td>041.Scissor_tailed_Flycatcher</td>\n",
       "      <td>5</td>\n",
       "    </tr>\n",
       "    <tr>\n",
       "      <th>6</th>\n",
       "      <td>067.Anna_Hummingbird</td>\n",
       "      <td>6</td>\n",
       "    </tr>\n",
       "    <tr>\n",
       "      <th>7</th>\n",
       "      <td>072.Pomarine_Jaeger</td>\n",
       "      <td>7</td>\n",
       "    </tr>\n",
       "    <tr>\n",
       "      <th>8</th>\n",
       "      <td>076.Dark_eyed_Junco</td>\n",
       "      <td>8</td>\n",
       "    </tr>\n",
       "    <tr>\n",
       "      <th>9</th>\n",
       "      <td>081.Pied_Kingfisher</td>\n",
       "      <td>9</td>\n",
       "    </tr>\n",
       "    <tr>\n",
       "      <th>10</th>\n",
       "      <td>082.Ringed_Kingfisher</td>\n",
       "      <td>10</td>\n",
       "    </tr>\n",
       "    <tr>\n",
       "      <th>11</th>\n",
       "      <td>086.Pacific_Loon</td>\n",
       "      <td>11</td>\n",
       "    </tr>\n",
       "    <tr>\n",
       "      <th>12</th>\n",
       "      <td>099.Ovenbird</td>\n",
       "      <td>12</td>\n",
       "    </tr>\n",
       "    <tr>\n",
       "      <th>13</th>\n",
       "      <td>104.American_Pipit</td>\n",
       "      <td>13</td>\n",
       "    </tr>\n",
       "    <tr>\n",
       "      <th>14</th>\n",
       "      <td>127.Savannah_Sparrow</td>\n",
       "      <td>14</td>\n",
       "    </tr>\n",
       "    <tr>\n",
       "      <th>15</th>\n",
       "      <td>135.Bank_Swallow</td>\n",
       "      <td>15</td>\n",
       "    </tr>\n",
       "    <tr>\n",
       "      <th>16</th>\n",
       "      <td>141.Artic_Tern</td>\n",
       "      <td>16</td>\n",
       "    </tr>\n",
       "    <tr>\n",
       "      <th>17</th>\n",
       "      <td>149.Brown_Thrasher</td>\n",
       "      <td>17</td>\n",
       "    </tr>\n",
       "    <tr>\n",
       "      <th>18</th>\n",
       "      <td>156.White_eyed_Vireo</td>\n",
       "      <td>18</td>\n",
       "    </tr>\n",
       "    <tr>\n",
       "      <th>19</th>\n",
       "      <td>168.Kentucky_Warbler</td>\n",
       "      <td>19</td>\n",
       "    </tr>\n",
       "  </tbody>\n",
       "</table>\n",
       "</div>"
      ],
      "text/plain": [
       "                      Folder Name  Class\n",
       "0              005.Crested_Auklet      0\n",
       "1                    013.Bobolink      1\n",
       "2              015.Lazuli_Bunting      2\n",
       "3            023.Brandt_Cormorant      3\n",
       "4      040.Olive_sided_Flycatcher      4\n",
       "5   041.Scissor_tailed_Flycatcher      5\n",
       "6            067.Anna_Hummingbird      6\n",
       "7             072.Pomarine_Jaeger      7\n",
       "8             076.Dark_eyed_Junco      8\n",
       "9             081.Pied_Kingfisher      9\n",
       "10          082.Ringed_Kingfisher     10\n",
       "11               086.Pacific_Loon     11\n",
       "12                   099.Ovenbird     12\n",
       "13             104.American_Pipit     13\n",
       "14           127.Savannah_Sparrow     14\n",
       "15               135.Bank_Swallow     15\n",
       "16                 141.Artic_Tern     16\n",
       "17             149.Brown_Thrasher     17\n",
       "18           156.White_eyed_Vireo     18\n",
       "19           168.Kentucky_Warbler     19"
      ]
     },
     "metadata": {},
     "output_type": "display_data"
    }
   ],
   "source": [
    "# Read Classes.xlsx and obtain folder name and classes\n",
    "classes = pd.read_excel('../data/Classes.xlsx', names=['Folder Name', 'Class'])\n",
    "display(classes)"
   ]
  },
  {
   "cell_type": "markdown",
   "id": "e222540e",
   "metadata": {},
   "source": [
    "I will do one-hot encoding after generating new images. This dataframe will serve as a guideline when referring to the name of folders and the name of classes."
   ]
  },
  {
   "cell_type": "markdown",
   "id": "28d2f0ef",
   "metadata": {},
   "source": [
    "### ii.\n",
    "Randomly select $\\lceil 0.7 n_i \\rceil$ images from each folder as your training set, $\\lceil 0.15 n_i \\rceil$ as validation set, and the rest as your test set, where $n_i$ is the number of images in folder $i$ and $\\lceil x \\rceil$ is the ceiling of $x$."
   ]
  },
  {
   "cell_type": "code",
   "execution_count": 3,
   "id": "2c02f6eb",
   "metadata": {},
   "outputs": [],
   "source": [
    "# This funtion return list of image names in training, validation, and testing set\n",
    "# With the proportion detetmined as instructed\n",
    "def data_split(folder):\n",
    "    # Obtain image names\n",
    "    path = \"../data/images/\" + str(folder)\n",
    "    image_name = [name for name in os.listdir(path)]\n",
    "    # Obtain number of images in a given folder\n",
    "    num_image = len(image_name)\n",
    "\n",
    "    # Caculate number of images for training set, validation set, and test set\n",
    "    num_train, num_valid = math.ceil(0.7*num_image), math.ceil(0.15*num_image)\n",
    "    num_test = num_image - num_train - num_valid\n",
    "\n",
    "    # Use random.sample to obtain 3 sets above\n",
    "    image_train = random.sample(image_name, num_train)\n",
    "    image_name = [x for x in image_name if x not in image_train]\n",
    "    image_valid = random.sample(image_name, num_valid)\n",
    "    image_name = [x for x in image_name if x not in image_valid]\n",
    "    image_test = random.sample(image_name, num_test)\n",
    "    \n",
    "    return image_train, image_valid, image_test"
   ]
  },
  {
   "cell_type": "code",
   "execution_count": 4,
   "id": "ea4457d7",
   "metadata": {},
   "outputs": [],
   "source": [
    "# Obtain path for training, validation, and testing set\n",
    "train_path = list()\n",
    "valid_path = list()\n",
    "test_path = list()\n",
    "dir_path = \"../data/images/\"\n",
    "\n",
    "for index, row in classes.iterrows():\n",
    "    folder_name = row['Folder Name']\n",
    "    split_result = data_split(folder_name)\n",
    "    for i in split_result[0]:\n",
    "        train_path.append(str(folder_name) + \"/\" + i)\n",
    "    for i in split_result[1]:\n",
    "        valid_path.append(str(folder_name) + \"/\" + i)\n",
    "    for i in split_result[2]:\n",
    "        test_path.append(str(folder_name) + \"/\" + i)"
   ]
  },
  {
   "cell_type": "code",
   "execution_count": 5,
   "id": "97e9786a",
   "metadata": {},
   "outputs": [
    {
     "name": "stdout",
     "output_type": "stream",
     "text": [
      "827 178 171\n"
     ]
    }
   ],
   "source": [
    "print(len(train_path), len(valid_path), len(test_path))"
   ]
  },
  {
   "cell_type": "code",
   "execution_count": 6,
   "id": "d162c728",
   "metadata": {},
   "outputs": [
    {
     "name": "stdout",
     "output_type": "stream",
     "text": [
      "005.Crested_Auklet/Crested_Auklet_0074_794949.jpg\n"
     ]
    }
   ],
   "source": [
    "# Take a glance at the path format\n",
    "print(train_path[0])"
   ]
  },
  {
   "cell_type": "markdown",
   "id": "c6e04099",
   "metadata": {},
   "source": [
    "### iii.\n",
    "In order for all the images to have the same size, zero-pad or resize the images in your dataset. This can be done using various tools, including OpenCV."
   ]
  },
  {
   "cell_type": "code",
   "execution_count": 7,
   "id": "c5b48583",
   "metadata": {},
   "outputs": [],
   "source": [
    "# Overwrite and format folders even if it exists\n",
    "splitfolder_path = \"../data/images_split\"\n",
    "# Create \"../data/images_split\" folder\n",
    "if os.path.exists(splitfolder_path):\n",
    "        shutil.rmtree(splitfolder_path)\n",
    "os.makedirs(splitfolder_path)\n",
    "\n",
    "folder_list = [\"training\", \"validation\", \"testing\"]\n",
    "for folder in folder_list:\n",
    "    newfolder_path = splitfolder_path + \"/\" + folder\n",
    "    if os.path.exists(newfolder_path):\n",
    "        shutil.rmtree(newfolder_path)\n",
    "    os.makedirs(newfolder_path)\n",
    "    \n",
    "    # Create class folder in training/validation/testing folder\n",
    "    for index, row in classes.iterrows():\n",
    "        folder_name = row['Folder Name']\n",
    "        class_folder_path = newfolder_path + \"/\" + folder_name\n",
    "        if os.path.exists(class_folder_path):\n",
    "            shutil.rmtree(class_folder_path)\n",
    "        os.makedirs(class_folder_path)"
   ]
  },
  {
   "cell_type": "markdown",
   "id": "cffb9e28",
   "metadata": {},
   "source": [
    "The above code is to make sure that images will are saved into correct folder with folder names matching to image class namae."
   ]
  },
  {
   "cell_type": "code",
   "execution_count": 8,
   "id": "b0807586",
   "metadata": {},
   "outputs": [],
   "source": [
    "# Resize for training/validation/testing set and save images\n",
    "# according to their class\n",
    "for path in train_path:\n",
    "    img = cv2.imread(dir_path + path)\n",
    "    img_pad = cv2.resize(img, (224, 224))\n",
    "    cv2.imwrite(\"../data/images_split/training/\" + path, img_pad)\n",
    "\n",
    "# Resize for validation set\n",
    "for path in valid_path:\n",
    "    img = cv2.imread(dir_path + path)\n",
    "    img_pad = cv2.resize(img, (224, 224))\n",
    "    cv2.imwrite(\"../data/images_split/validation/\" + path, img_pad)\n",
    "\n",
    "# Resize for testing set\n",
    "for path in test_path:\n",
    "    img = cv2.imread(dir_path + path)\n",
    "    img_pad = cv2.resize(img, (224, 224))\n",
    "    cv2.imwrite(\"../data/images_split/testing/\" + path, img_pad)"
   ]
  },
  {
   "cell_type": "markdown",
   "id": "a9c921bb",
   "metadata": {},
   "source": [
    "## (c) Transfer Learning"
   ]
  },
  {
   "cell_type": "markdown",
   "id": "9183a2f7",
   "metadata": {},
   "source": [
    "### i.\n",
    "When dealing with classification of relatively small image datasets, deep networks may not perform very well because of not having enough data to train them. In such cases, one usually uses *transfer learning*, which uses deep learning models that are trained on very large datasets such as `ImageNet` as feature extractors. The idea is that such deep networks have learned to extract meaningful features from an image using their layers, and those features can be used in learning other tasks. In order to do that, usually the last layer or the last few layers of the pre-trained network are removed, and the response of the layer before the removed layers to the images in the new dataset is used as a feature vector to train one more multiple replacement layers. The dataset in this task has only around 50-60 images per class. Given that we have 20 classes, training a deep network with such a small dataset may not yield desirable results. In this project, you will use pre-trained models `EfficientNetB0` and `VGG16`. For both pre-trained networks, you will only train the last fully connected layer, and will *freeze* all layers before them (i.e. we do not change their parameters during training) and use the outputs of the penultimate layer in the original pre-trained model as the features extracted from each image."
   ]
  },
  {
   "cell_type": "markdown",
   "id": "060458a4",
   "metadata": {},
   "source": [
    "### ii. \n",
    "To perform empirical regularization, crop, randomly zoom, rotate, flip, contrast, and translate images in your training set for image"
   ]
  },
  {
   "cell_type": "code",
   "execution_count": 9,
   "id": "cdb23562",
   "metadata": {},
   "outputs": [],
   "source": [
    "# Crop image\n",
    "def crop(img, y, x, h, w):\n",
    "    \"\"\"\n",
    "    The first dimension is the number of rows or the height of the image\n",
    "    The second dimension is the number of columns or the width of the image\n",
    "    \"\"\"\n",
    "    cropped_img = img[y:y+h, x:x+w]\n",
    "    return cropped_img\n",
    "\n",
    "\n",
    "# Zoom image\n",
    "def zoom(img, zoom_factor):\n",
    "    h, w, _ = [zoom_factor*i for i in img.shape]\n",
    "    cx, cy = w/2, h/2\n",
    "    \n",
    "    img = cv2.resize(img, (0, 0), fx=zoom_factor, fy=zoom_factor)\n",
    "    img = img[int(round(cy - h/zoom_factor*0.5)) : int(round(cy + h/zoom_factor*0.5)),\n",
    "              int(round(cx - w/zoom_factor*0.5)) : int(round(cx + w/zoom_factor*0.5)),\n",
    "              :]\n",
    "    return img\n",
    "\n",
    "\n",
    "# Rotate image\n",
    "def rotate(img, angle):\n",
    "    image_center = tuple(np.array(image.shape[1::-1]) / 2)\n",
    "    rot_mat = cv2.getRotationMatrix2D(image_center, angle, 1.0)\n",
    "    result = cv2.warpAffine(image, rot_mat, image.shape[1::-1], flags=cv2.INTER_LINEAR)\n",
    "    return result\n",
    "\n",
    "\n",
    "# Filp image\n",
    "def flip(img, flip_factor):\n",
    "    \"\"\"\n",
    "    flip_factor:\n",
    "        = 0, for flipping the image around the x-axis (vertical flipping);\n",
    "        > 0 for flipping around the y-axis (horizontal flipping);\n",
    "        < 0 for flipping around both axes.\n",
    "    \"\"\"\n",
    "    return cv2.flip(img, flip_factor)\n",
    "\n",
    "\n",
    "# Contrast image\n",
    "def contrast(img, alpha):\n",
    "    \"\"\"\n",
    "    alpha: (0.0,  inf) with 1.0 leaving the contrast as is\n",
    "    \"\"\"\n",
    "    return cv2.addWeighted(img, alpha, img, 0, 0, 0)\n",
    "\n",
    "\n",
    "# Translate image\n",
    "def translate(img, tx, ty):\n",
    "    \"\"\"\n",
    "    tx < 0 shifts the image to the left\n",
    "    tx > 0 shifts the image to the right\n",
    "    ty < 0 shifts the image up \n",
    "    ty > 0 shifts the image down\n",
    "    \"\"\"\n",
    "    # Get the width and height of the image\n",
    "    height, width = image.shape[:2]\n",
    "    # Create translation matrix using tx and ty\n",
    "    translation_matrix = np.array([\n",
    "        [1, 0, tx],\n",
    "        [0, 1, ty]\n",
    "    ], dtype=np.float32)\n",
    "    return cv2.warpAffine(img, M=translation_matrix, dsize=(width, height))\n",
    "\n",
    "\n",
    "# Save image\n",
    "def save_img(img, img_class, img_name, action):\n",
    "    return cv2.imwrite(\"../data/images_split/training/\" \n",
    "                       + img_class + \"/\" \n",
    "                       + action \n",
    "                       + img_name, img)"
   ]
  },
  {
   "cell_type": "markdown",
   "id": "fbea2cb4",
   "metadata": {},
   "source": [
    "We perform empirical regularization (6 actions) on each image in the trainig set. Then we save images according to action name along with the original image."
   ]
  },
  {
   "cell_type": "code",
   "execution_count": 10,
   "id": "217130c7",
   "metadata": {},
   "outputs": [],
   "source": [
    "# Perform empirical regularization on the training set\n",
    "# Obtain image name in the training folder\n",
    "img_name = list()\n",
    "for path in train_path:\n",
    "    img_name.append(path)\n",
    "    \n",
    "# Generate and save new images\n",
    "for name in img_name:\n",
    "    path = \"../data/images_split/training/\" + name\n",
    "    image = cv2.imread(path)\n",
    "    \n",
    "    img_class = name.split('/')[0]\n",
    "    img_file_name = name.split('/')[1]\n",
    "    \n",
    "    # Crop image by randomly generated starting points, height, and width\n",
    "    y, x = random.randint(20, 120), random.randint(20, 120)\n",
    "    h, w = 100, 100\n",
    "    image_crop = crop(image, y, x, h, w)\n",
    "    # Matching cropped images in training set\n",
    "    image_crop = cv2.resize(image_crop, (224, 224))\n",
    "    save_img(image_crop, img_class, img_file_name, 'crop_')\n",
    "    \n",
    "    # Zoom image by randomly generated zoom factor\n",
    "    zoom_factor = random.uniform(1, 3)\n",
    "    image_zoom = zoom(image, zoom_factor)\n",
    "    # Matching zoom images in training set\n",
    "    save_img(image_zoom, img_class, img_file_name, 'zoom_')\n",
    "    \n",
    "    # Rotate image by randomly generated angle\n",
    "    angle = random.randint(0, 360)\n",
    "    image_rotate = rotate(image, angle)\n",
    "    save_img(image_rotate, img_class, img_file_name, 'rotate_')\n",
    "    \n",
    "    # Filp image by randomly selecting flip factor\n",
    "    flip_factor = random.choice([-1, 0, 1])\n",
    "    imag_flip = flip(image, flip_factor)\n",
    "    save_img(imag_flip, img_class, img_file_name, 'flip_')\n",
    "    \n",
    "    # Contrast image by randomly generated alpha\n",
    "    alpha = random.uniform(0.5, 2)\n",
    "    image_contrast = contrast(image, alpha)\n",
    "    save_img(image_contrast, img_class, img_file_name, 'contrast_')\n",
    "    \n",
    "    # Translate image by randomly generated tx and ty for translation matrix\n",
    "    tx, ty = random.randint(-100, 10), random.randint(-100, 100)\n",
    "    image_translate = translate(image, tx, ty)\n",
    "    save_img(image_translate, img_class, img_file_name, 'translate_')"
   ]
  },
  {
   "cell_type": "markdown",
   "id": "6cc077e0",
   "metadata": {},
   "source": [
    "After performing empirical regularization, we want to load images in and label them for training, validating, and testing."
   ]
  },
  {
   "cell_type": "code",
   "execution_count": 11,
   "id": "8198ae73",
   "metadata": {},
   "outputs": [
    {
     "name": "stdout",
     "output_type": "stream",
     "text": [
      "Found 5789 files belonging to 20 classes.\n"
     ]
    }
   ],
   "source": [
    "train_ds = utils.image_dataset_from_directory(\n",
    "    directory='../data/images_split/training/',\n",
    "    labels='inferred',\n",
    "    label_mode='categorical',\n",
    "    batch_size=5,\n",
    "    image_size=(224, 224), \n",
    "    shuffle=True)"
   ]
  },
  {
   "cell_type": "code",
   "execution_count": 12,
   "id": "3069cd11",
   "metadata": {},
   "outputs": [
    {
     "name": "stdout",
     "output_type": "stream",
     "text": [
      "Found 178 files belonging to 20 classes.\n"
     ]
    }
   ],
   "source": [
    "validation_ds = utils.image_dataset_from_directory(\n",
    "    directory='../data/images_split/validation/',\n",
    "    labels='inferred',\n",
    "    label_mode='categorical',\n",
    "    batch_size=5,\n",
    "    image_size=(224, 224),\n",
    "    shuffle=False)"
   ]
  },
  {
   "cell_type": "code",
   "execution_count": 13,
   "id": "7e8482e8",
   "metadata": {},
   "outputs": [
    {
     "name": "stdout",
     "output_type": "stream",
     "text": [
      "Found 171 files belonging to 20 classes.\n"
     ]
    }
   ],
   "source": [
    "test_ds = utils.image_dataset_from_directory(\n",
    "    directory='../data/images_split/testing/',\n",
    "    labels='inferred',\n",
    "    label_mode='categorical',\n",
    "    batch_size=5,\n",
    "    image_size=(224, 224),\n",
    "    shuffle=False)"
   ]
  },
  {
   "cell_type": "markdown",
   "id": "ebcfb499",
   "metadata": {},
   "source": [
    "The number looks correct here as the number of validation and testing images match with what we have earlier. The number of training images is calculated by $827 \\cdot (1+6) = 5789$ where for each original image we have six more generated images."
   ]
  },
  {
   "cell_type": "code",
   "execution_count": 14,
   "id": "979bf103",
   "metadata": {},
   "outputs": [
    {
     "name": "stdout",
     "output_type": "stream",
     "text": [
      "(5, 224, 224, 3)\n",
      "(5, 20)\n"
     ]
    }
   ],
   "source": [
    "# Insepect data\n",
    "for image_batch, labels_batch in train_ds:\n",
    "    print(image_batch.shape)\n",
    "    print(labels_batch.shape)\n",
    "    break"
   ]
  },
  {
   "cell_type": "markdown",
   "id": "035ea2cd",
   "metadata": {},
   "source": [
    "The dimensions of batched images and labels look good. We can start working on the models."
   ]
  },
  {
   "cell_type": "markdown",
   "id": "13521f28",
   "metadata": {},
   "source": [
    "### iii.\n",
    "Use ReLU activation functions in the last layer and a softmax layer, along with batch normalization and a dropout rate of 20% as well as ADAM optimizer. Use multinomial cross entropy loss. You can try any batch size, but a batch size of 5 seems reasonable."
   ]
  },
  {
   "cell_type": "markdown",
   "id": "fb7008dc",
   "metadata": {},
   "source": [
    "#### Construct EfficientNetB0"
   ]
  },
  {
   "cell_type": "code",
   "execution_count": 15,
   "id": "16d1c11c",
   "metadata": {},
   "outputs": [
    {
     "name": "stdout",
     "output_type": "stream",
     "text": [
      "Model: \"EfficientNet\"\n",
      "_________________________________________________________________\n",
      "Layer (type)                 Output Shape              Param #   \n",
      "=================================================================\n",
      "inputLayer (InputLayer)      [(None, 224, 224, 3)]     0         \n",
      "_________________________________________________________________\n",
      "efficientnetb0 (Functional)  (None, None, None, 1280)  4049571   \n",
      "_________________________________________________________________\n",
      "avg_pool (GlobalAveragePooli (None, 1280)              0         \n",
      "_________________________________________________________________\n",
      "batch_normalization (BatchNo (None, 1280)              5120      \n",
      "_________________________________________________________________\n",
      "reludenseLayer1 (Dense)      (None, 1280)              1639680   \n",
      "_________________________________________________________________\n",
      "top_dropout (Dropout)        (None, 1280)              0         \n",
      "_________________________________________________________________\n",
      "reludenseLayer2 (Dense)      (None, 160)               204960    \n",
      "_________________________________________________________________\n",
      "reludenseLayer3 (Dense)      (None, 20)                3220      \n",
      "_________________________________________________________________\n",
      "activationLayer (Activation) (None, 20)                0         \n",
      "=================================================================\n",
      "Total params: 5,902,551\n",
      "Trainable params: 1,850,420\n",
      "Non-trainable params: 4,052,131\n",
      "_________________________________________________________________\n"
     ]
    }
   ],
   "source": [
    "# Define model according to the instruction\n",
    "EfficientNet_base = EfficientNetB0(include_top=False, weights=\"imagenet\")\n",
    "# Freeze the pretrained weights\n",
    "EfficientNet_base.trainable = False\n",
    "\n",
    "top_dropout_rate = 0.2\n",
    "\n",
    "# Rebuild some layers\n",
    "inputs = layers.Input(shape = (224,224,3), name='inputLayer')  # input matching image size\n",
    "\n",
    "x = EfficientNet_base(inputs)\n",
    "\n",
    "x = layers.GlobalAveragePooling2D(name=\"avg_pool\")(x)\n",
    "x = layers.BatchNormalization()(x)  # batch normalization\n",
    "\n",
    "x = layers.Dense(1280, activation=\"relu\", name='reludenseLayer1')(x)  # ReLU layer\n",
    "x = layers.Dropout(top_dropout_rate, name=\"top_dropout\")(x)  # Dropout rate of 20% for input\n",
    "\n",
    "x = layers.Dense(160, activation=\"relu\", name='reludenseLayer2')(x)  # ReLU layer\n",
    "\n",
    "x = layers.Dense(20, activation=\"relu\", name='reludenseLayer3')(x)  # ReLU layer\n",
    "\n",
    "outputs = layers.Activation(activation=\"softmax\", dtype=tf.float32, name='activationLayer')(x)\n",
    "\n",
    "EfficientNet = tf.keras.Model(inputs, outputs, name = \"EfficientNet\")\n",
    "EfficientNet.summary()"
   ]
  },
  {
   "cell_type": "markdown",
   "id": "881212a0",
   "metadata": {},
   "source": [
    "#### Construct VGG16"
   ]
  },
  {
   "cell_type": "code",
   "execution_count": 16,
   "id": "4b84d42a",
   "metadata": {},
   "outputs": [
    {
     "name": "stdout",
     "output_type": "stream",
     "text": [
      "Model: \"VGG\"\n",
      "_________________________________________________________________\n",
      "Layer (type)                 Output Shape              Param #   \n",
      "=================================================================\n",
      "inputLayer (InputLayer)      [(None, 224, 224, 3)]     0         \n",
      "_________________________________________________________________\n",
      "vgg16 (Functional)           (None, None, None, 512)   14714688  \n",
      "_________________________________________________________________\n",
      "avg_pool (GlobalAveragePooli (None, 512)               0         \n",
      "_________________________________________________________________\n",
      "batch_normalization_1 (Batch (None, 512)               2048      \n",
      "_________________________________________________________________\n",
      "reludenseLayer1 (Dense)      (None, 512)               262656    \n",
      "_________________________________________________________________\n",
      "top_dropout (Dropout)        (None, 512)               0         \n",
      "_________________________________________________________________\n",
      "reludenseLayer2 (Dense)      (None, 128)               65664     \n",
      "_________________________________________________________________\n",
      "reludenseLayer3 (Dense)      (None, 20)                2580      \n",
      "_________________________________________________________________\n",
      "activationLayer (Activation) (None, 20)                0         \n",
      "=================================================================\n",
      "Total params: 15,047,636\n",
      "Trainable params: 331,924\n",
      "Non-trainable params: 14,715,712\n",
      "_________________________________________________________________\n"
     ]
    }
   ],
   "source": [
    "# Define model according to the instruction\n",
    "VGG_base = vgg16.VGG16(include_top=False, weights=\"imagenet\")\n",
    "# Freeze the pretrained weights\n",
    "VGG_base.trainable = False\n",
    "\n",
    "top_dropout_rate = 0.2\n",
    "\n",
    "# Rebuild some layers\n",
    "inputs = layers.Input(shape = (224,224,3), name='inputLayer')  # input matching image size\n",
    "x = VGG_base(inputs)\n",
    "\n",
    "x = layers.GlobalAveragePooling2D(name=\"avg_pool\")(x)\n",
    "x = layers.BatchNormalization()(x)  # batch normalization\n",
    "\n",
    "x = layers.Dense(512, activation=\"relu\", name='reludenseLayer1')(x)  # ReLU layer\n",
    "x = layers.Dropout(top_dropout_rate, name=\"top_dropout\")(x)  #  Dropout rate of 20% for input\n",
    "\n",
    "x = layers.Dense(128, activation=\"relu\", name='reludenseLayer2')(x)  # ReLU layer\n",
    "\n",
    "x = layers.Dense(20, activation=\"relu\", name='reludenseLayer3')(x)  # ReLU layer\n",
    "\n",
    "outputs = layers.Activation(activation=\"softmax\", dtype=tf.float32, name='activationLayer')(x)\n",
    "\n",
    "VGG = tf.keras.Model(inputs, outputs, name = \"VGG\")\n",
    "VGG.summary()"
   ]
  },
  {
   "cell_type": "code",
   "execution_count": 17,
   "id": "bba7f7b6",
   "metadata": {},
   "outputs": [],
   "source": [
    "# Function to plot training and validation errors vs. epochs\n",
    "def plot_hist(hist):\n",
    "    plt.figure(figsize=(8, 6), dpi=80)\n",
    "    plt.plot([1 - i for i in hist.history[\"accuracy\"]])\n",
    "    plt.plot([1 - i for i in hist.history[\"val_accuracy\"]])\n",
    "    plt.title(\"Training and Validation Errors vs. Epochs\")\n",
    "    plt.ylabel(\"Error\")\n",
    "    plt.xlabel(\"Epochs\")\n",
    "    plt.legend([\"train\", \"validation\"], loc=\"upper right\")\n",
    "    plt.show()"
   ]
  },
  {
   "cell_type": "markdown",
   "id": "5b065d70",
   "metadata": {},
   "source": [
    "### iv.\n",
    "Train the networks (`EfficientNetB0` and `VGG16`) for at least 50 epochs (preferably 100 epochs) and perform early stopping using the validation set. Keep the network parameters that have the lowest validation error. Plot the training and validation errors vs. epochs."
   ]
  },
  {
   "cell_type": "markdown",
   "id": "f41c76f2",
   "metadata": {},
   "source": [
    "#### EfficientNetB0"
   ]
  },
  {
   "cell_type": "code",
   "execution_count": 18,
   "id": "8c4d4236",
   "metadata": {
    "scrolled": false
   },
   "outputs": [
    {
     "name": "stdout",
     "output_type": "stream",
     "text": [
      "Epoch 1/100\n",
      "1158/1158 - 20s - loss: 1.1182 - accuracy: 0.6735 - val_loss: 0.2234 - val_accuracy: 0.9157\n"
     ]
    },
    {
     "name": "stderr",
     "output_type": "stream",
     "text": [
      "C:\\ProgramData\\Anaconda3\\envs\\tf-gpu\\lib\\site-packages\\keras\\utils\\generic_utils.py:494: CustomMaskWarning: Custom mask layers require a config and must override get_config. When loading, the custom mask layer must be passed to the custom_objects argument.\n",
      "  warnings.warn('Custom mask layers require a config and must override '\n"
     ]
    },
    {
     "name": "stdout",
     "output_type": "stream",
     "text": [
      "Epoch 2/100\n",
      "1158/1158 - 13s - loss: 0.4314 - accuracy: 0.8673 - val_loss: 0.2473 - val_accuracy: 0.9270\n",
      "Epoch 3/100\n",
      "1158/1158 - 13s - loss: 0.2738 - accuracy: 0.9150 - val_loss: 0.2278 - val_accuracy: 0.9213\n",
      "Epoch 4/100\n",
      "1158/1158 - 13s - loss: 0.2084 - accuracy: 0.9326 - val_loss: 0.3400 - val_accuracy: 0.9157\n",
      "Epoch 5/100\n",
      "1158/1158 - 13s - loss: 0.1805 - accuracy: 0.9404 - val_loss: 0.2928 - val_accuracy: 0.9382\n",
      "Epoch 6/100\n",
      "1158/1158 - 13s - loss: 0.1491 - accuracy: 0.9525 - val_loss: 0.3770 - val_accuracy: 0.9213\n",
      "Epoch 7/100\n",
      "1158/1158 - 12s - loss: 0.1307 - accuracy: 0.9570 - val_loss: 0.2759 - val_accuracy: 0.9326\n",
      "Epoch 8/100\n",
      "1158/1158 - 12s - loss: 0.1219 - accuracy: 0.9591 - val_loss: 0.2733 - val_accuracy: 0.9326\n",
      "Epoch 9/100\n",
      "1158/1158 - 13s - loss: 0.1083 - accuracy: 0.9632 - val_loss: 0.2504 - val_accuracy: 0.9326\n",
      "Epoch 10/100\n",
      "1158/1158 - 13s - loss: 0.0885 - accuracy: 0.9710 - val_loss: 0.2727 - val_accuracy: 0.9213\n",
      "Epoch 11/100\n",
      "1158/1158 - 13s - loss: 0.0882 - accuracy: 0.9705 - val_loss: 0.3403 - val_accuracy: 0.9326\n",
      "Epoch 12/100\n",
      "1158/1158 - 13s - loss: 0.0845 - accuracy: 0.9734 - val_loss: 0.3282 - val_accuracy: 0.9326\n",
      "Epoch 13/100\n",
      "1158/1158 - 13s - loss: 0.0662 - accuracy: 0.9791 - val_loss: 0.3943 - val_accuracy: 0.9213\n",
      "Epoch 14/100\n",
      "1158/1158 - 13s - loss: 0.0919 - accuracy: 0.9703 - val_loss: 0.3808 - val_accuracy: 0.9157\n",
      "Epoch 15/100\n",
      "1158/1158 - 14s - loss: 0.0793 - accuracy: 0.9741 - val_loss: 0.3195 - val_accuracy: 0.9270\n",
      "Epoch 16/100\n",
      "1158/1158 - 13s - loss: 0.0665 - accuracy: 0.9801 - val_loss: 0.3844 - val_accuracy: 0.8989\n",
      "Epoch 17/100\n",
      "1158/1158 - 12s - loss: 0.0767 - accuracy: 0.9765 - val_loss: 0.3346 - val_accuracy: 0.9101\n",
      "Epoch 18/100\n",
      "1158/1158 - 12s - loss: 0.0579 - accuracy: 0.9805 - val_loss: 0.4015 - val_accuracy: 0.9101\n",
      "Epoch 19/100\n",
      "1158/1158 - 12s - loss: 0.0667 - accuracy: 0.9793 - val_loss: 0.3459 - val_accuracy: 0.9382\n",
      "Epoch 20/100\n",
      "1158/1158 - 12s - loss: 0.0637 - accuracy: 0.9800 - val_loss: 0.2973 - val_accuracy: 0.9438\n",
      "Epoch 21/100\n",
      "1158/1158 - 12s - loss: 0.0606 - accuracy: 0.9800 - val_loss: 0.3548 - val_accuracy: 0.9382\n",
      "Epoch 22/100\n",
      "1158/1158 - 13s - loss: 0.0605 - accuracy: 0.9815 - val_loss: 0.4418 - val_accuracy: 0.9270\n",
      "Epoch 23/100\n",
      "1158/1158 - 13s - loss: 0.0692 - accuracy: 0.9788 - val_loss: 0.4836 - val_accuracy: 0.9213\n",
      "Epoch 24/100\n",
      "1158/1158 - 12s - loss: 0.0530 - accuracy: 0.9815 - val_loss: 0.3966 - val_accuracy: 0.8933\n",
      "Epoch 25/100\n",
      "1158/1158 - 12s - loss: 0.0626 - accuracy: 0.9800 - val_loss: 0.3894 - val_accuracy: 0.9045\n",
      "Epoch 26/100\n",
      "1158/1158 - 12s - loss: 0.0518 - accuracy: 0.9827 - val_loss: 0.3237 - val_accuracy: 0.9438\n",
      "Epoch 27/100\n",
      "1158/1158 - 13s - loss: 0.0550 - accuracy: 0.9813 - val_loss: 0.3006 - val_accuracy: 0.9382\n",
      "Epoch 28/100\n",
      "1158/1158 - 12s - loss: 0.0661 - accuracy: 0.9789 - val_loss: 0.4347 - val_accuracy: 0.9101\n",
      "Epoch 29/100\n",
      "1158/1158 - 12s - loss: 0.0476 - accuracy: 0.9853 - val_loss: 0.3898 - val_accuracy: 0.9157\n",
      "Epoch 30/100\n",
      "1158/1158 - 12s - loss: 0.0618 - accuracy: 0.9800 - val_loss: 0.4204 - val_accuracy: 0.9270\n",
      "Epoch 31/100\n",
      "1158/1158 - 12s - loss: 0.0497 - accuracy: 0.9850 - val_loss: 0.5377 - val_accuracy: 0.9326\n",
      "Epoch 32/100\n",
      "1158/1158 - 12s - loss: 0.0437 - accuracy: 0.9862 - val_loss: 0.4655 - val_accuracy: 0.9101\n",
      "Epoch 33/100\n",
      "1158/1158 - 12s - loss: 0.0492 - accuracy: 0.9858 - val_loss: 0.4262 - val_accuracy: 0.8989\n",
      "Epoch 34/100\n",
      "1158/1158 - 12s - loss: 0.0426 - accuracy: 0.9855 - val_loss: 0.4403 - val_accuracy: 0.9213\n",
      "Epoch 35/100\n",
      "1158/1158 - 12s - loss: 0.0519 - accuracy: 0.9838 - val_loss: 0.4888 - val_accuracy: 0.9382\n",
      "Epoch 36/100\n",
      "1158/1158 - 12s - loss: 0.0545 - accuracy: 0.9838 - val_loss: 0.4571 - val_accuracy: 0.9270\n",
      "Epoch 37/100\n",
      "1158/1158 - 12s - loss: 0.0411 - accuracy: 0.9884 - val_loss: 0.4001 - val_accuracy: 0.9270\n",
      "Epoch 38/100\n",
      "1158/1158 - 12s - loss: 0.0379 - accuracy: 0.9881 - val_loss: 0.3428 - val_accuracy: 0.9494\n",
      "Epoch 39/100\n",
      "1158/1158 - 13s - loss: 0.0432 - accuracy: 0.9860 - val_loss: 0.2994 - val_accuracy: 0.9438\n",
      "Epoch 40/100\n",
      "1158/1158 - 13s - loss: 0.0460 - accuracy: 0.9850 - val_loss: 0.4002 - val_accuracy: 0.9438\n",
      "Epoch 41/100\n",
      "1158/1158 - 13s - loss: 0.0450 - accuracy: 0.9864 - val_loss: 0.3447 - val_accuracy: 0.9438\n",
      "Epoch 42/100\n",
      "1158/1158 - 12s - loss: 0.0415 - accuracy: 0.9879 - val_loss: 0.3879 - val_accuracy: 0.9382\n",
      "Epoch 43/100\n",
      "1158/1158 - 12s - loss: 0.0381 - accuracy: 0.9877 - val_loss: 0.3754 - val_accuracy: 0.9382\n",
      "Epoch 44/100\n",
      "1158/1158 - 12s - loss: 0.0418 - accuracy: 0.9862 - val_loss: 0.4088 - val_accuracy: 0.9326\n",
      "Epoch 45/100\n",
      "1158/1158 - 13s - loss: 0.0399 - accuracy: 0.9879 - val_loss: 0.3372 - val_accuracy: 0.9494\n",
      "Epoch 46/100\n",
      "1158/1158 - 12s - loss: 0.0445 - accuracy: 0.9865 - val_loss: 0.3962 - val_accuracy: 0.9382\n",
      "Epoch 47/100\n",
      "1158/1158 - 12s - loss: 0.0419 - accuracy: 0.9883 - val_loss: 0.3346 - val_accuracy: 0.9607\n",
      "Epoch 48/100\n",
      "1158/1158 - 12s - loss: 0.0518 - accuracy: 0.9869 - val_loss: 0.4451 - val_accuracy: 0.9494\n",
      "Epoch 49/100\n",
      "1158/1158 - 12s - loss: 0.0328 - accuracy: 0.9888 - val_loss: 0.3599 - val_accuracy: 0.9438\n",
      "Epoch 50/100\n",
      "1158/1158 - 13s - loss: 0.0292 - accuracy: 0.9907 - val_loss: 0.3631 - val_accuracy: 0.9438\n",
      "Epoch 51/100\n",
      "1158/1158 - 13s - loss: 0.0404 - accuracy: 0.9876 - val_loss: 0.4222 - val_accuracy: 0.9382\n",
      "Restoring model weights from the end of the best epoch.\n",
      "Epoch 00051: early stopping\n",
      "CPU times: total: 1min 4s\n",
      "Wall time: 10min 44s\n"
     ]
    }
   ],
   "source": [
    "%%time\n",
    "optimizer = tf.keras.optimizers.Adam(learning_rate=1e-4)\n",
    "\n",
    "# Save model with lowest validation error\n",
    "filepath = \"EfficientNet_best.hdf5\"\n",
    "checkpoint = ModelCheckpoint(filepath=filepath, \n",
    "                             monitor='val_loss',\n",
    "                             verbose=0, \n",
    "                             save_best_only=True,\n",
    "                             mode='min')\n",
    "\n",
    "earlystop = tf.keras.callbacks.EarlyStopping(monitor='val_loss', \n",
    "                                             patience=50, \n",
    "                                             verbose=1, \n",
    "                                             restore_best_weights=True)\n",
    "\n",
    "EfficientNet.compile(loss = \"categorical_crossentropy\",\n",
    "                     optimizer = optimizer,\n",
    "                     metrics = [\"accuracy\"])\n",
    "\n",
    "epochs = 100\n",
    "EfficientNet_hist = EfficientNet.fit(train_ds, epochs=epochs, validation_data=validation_ds, \n",
    "                                     callbacks=[checkpoint, earlystop], verbose=2)"
   ]
  },
  {
   "cell_type": "code",
   "execution_count": 19,
   "id": "57543e21",
   "metadata": {},
   "outputs": [
    {
     "data": {
      "image/png": "[encoded data removed]",
      "text/plain": [
       "<Figure size 640x480 with 1 Axes>"
      ]
     },
     "metadata": {
      "needs_background": "light"
     },
     "output_type": "display_data"
    }
   ],
   "source": [
    "plot_hist(EfficientNet_hist)"
   ]
  },
  {
   "cell_type": "markdown",
   "id": "1848779f",
   "metadata": {},
   "source": [
    "We see that the training error decreases rapidly after the first a few epochs, and it remains low through out the training. The validation error stays in the range from 0.05 to 0.15 and is larger than the training error after the first few epochs. Though we set 100 epochs for training the `EfficientNetB0` model, the training process is terminated by the early stopping at epoch = 51 as we are monitoring on validation error."
   ]
  },
  {
   "cell_type": "markdown",
   "id": "dc9ecab4",
   "metadata": {},
   "source": [
    "#### VGG16"
   ]
  },
  {
   "cell_type": "code",
   "execution_count": 20,
   "id": "fe7ddd28",
   "metadata": {
    "scrolled": false
   },
   "outputs": [
    {
     "name": "stdout",
     "output_type": "stream",
     "text": [
      "Epoch 1/100\n",
      "1158/1158 - 14s - loss: 2.4570 - accuracy: 0.2885 - val_loss: 1.5298 - val_accuracy: 0.5955\n",
      "Epoch 2/100\n",
      "1158/1158 - 12s - loss: 1.5544 - accuracy: 0.5763 - val_loss: 1.2015 - val_accuracy: 0.7022\n",
      "Epoch 3/100\n",
      "1158/1158 - 12s - loss: 1.2633 - accuracy: 0.6459 - val_loss: 1.0846 - val_accuracy: 0.7191\n",
      "Epoch 4/100\n",
      "1158/1158 - 12s - loss: 1.1314 - accuracy: 0.6877 - val_loss: 1.0299 - val_accuracy: 0.7135\n",
      "Epoch 5/100\n",
      "1158/1158 - 12s - loss: 1.0005 - accuracy: 0.7217 - val_loss: 1.0146 - val_accuracy: 0.7360\n",
      "Epoch 6/100\n",
      "1158/1158 - 12s - loss: 0.9314 - accuracy: 0.7416 - val_loss: 1.0097 - val_accuracy: 0.7303\n",
      "Epoch 7/100\n",
      "1158/1158 - 12s - loss: 0.8703 - accuracy: 0.7547 - val_loss: 0.9892 - val_accuracy: 0.7247\n",
      "Epoch 8/100\n",
      "1158/1158 - 12s - loss: 0.8149 - accuracy: 0.7722 - val_loss: 0.9933 - val_accuracy: 0.7247\n",
      "Epoch 9/100\n",
      "1158/1158 - 12s - loss: 0.7880 - accuracy: 0.7803 - val_loss: 0.9886 - val_accuracy: 0.7472\n",
      "Epoch 10/100\n",
      "1158/1158 - 12s - loss: 0.7339 - accuracy: 0.7937 - val_loss: 1.0232 - val_accuracy: 0.7360\n",
      "Epoch 11/100\n",
      "1158/1158 - 12s - loss: 0.7160 - accuracy: 0.7986 - val_loss: 1.0114 - val_accuracy: 0.7472\n",
      "Epoch 12/100\n",
      "1158/1158 - 12s - loss: 0.6975 - accuracy: 0.8032 - val_loss: 1.0341 - val_accuracy: 0.7191\n",
      "Epoch 13/100\n",
      "1158/1158 - 12s - loss: 0.6681 - accuracy: 0.8062 - val_loss: 1.0021 - val_accuracy: 0.7247\n",
      "Epoch 14/100\n",
      "1158/1158 - 12s - loss: 0.6615 - accuracy: 0.8107 - val_loss: 1.0190 - val_accuracy: 0.7191\n",
      "Epoch 15/100\n",
      "1158/1158 - 12s - loss: 0.6345 - accuracy: 0.8188 - val_loss: 1.0642 - val_accuracy: 0.7303\n",
      "Epoch 16/100\n",
      "1158/1158 - 13s - loss: 0.6219 - accuracy: 0.8183 - val_loss: 1.0483 - val_accuracy: 0.7191\n",
      "Epoch 17/100\n",
      "1158/1158 - 12s - loss: 0.5969 - accuracy: 0.8290 - val_loss: 1.0690 - val_accuracy: 0.7416\n",
      "Epoch 18/100\n",
      "1158/1158 - 12s - loss: 0.5976 - accuracy: 0.8292 - val_loss: 1.1051 - val_accuracy: 0.7360\n",
      "Epoch 19/100\n",
      "1158/1158 - 12s - loss: 0.5812 - accuracy: 0.8292 - val_loss: 1.0679 - val_accuracy: 0.7360\n",
      "Epoch 20/100\n",
      "1158/1158 - 12s - loss: 0.5737 - accuracy: 0.8321 - val_loss: 1.0745 - val_accuracy: 0.7191\n",
      "Epoch 21/100\n",
      "1158/1158 - 12s - loss: 0.5674 - accuracy: 0.8373 - val_loss: 1.0435 - val_accuracy: 0.7416\n",
      "Epoch 22/100\n",
      "1158/1158 - 12s - loss: 0.5579 - accuracy: 0.8354 - val_loss: 0.9830 - val_accuracy: 0.7528\n",
      "Epoch 23/100\n",
      "1158/1158 - 12s - loss: 0.5487 - accuracy: 0.8430 - val_loss: 0.9584 - val_accuracy: 0.7472\n",
      "Epoch 24/100\n",
      "1158/1158 - 11s - loss: 0.5344 - accuracy: 0.8419 - val_loss: 1.0235 - val_accuracy: 0.7472\n",
      "Epoch 25/100\n",
      "1158/1158 - 12s - loss: 0.5240 - accuracy: 0.8464 - val_loss: 1.0973 - val_accuracy: 0.6910\n",
      "Epoch 26/100\n",
      "1158/1158 - 12s - loss: 0.5118 - accuracy: 0.8495 - val_loss: 1.0681 - val_accuracy: 0.7303\n",
      "Epoch 27/100\n",
      "1158/1158 - 12s - loss: 0.5132 - accuracy: 0.8456 - val_loss: 1.0769 - val_accuracy: 0.7303\n",
      "Epoch 28/100\n",
      "1158/1158 - 12s - loss: 0.5000 - accuracy: 0.8554 - val_loss: 1.0636 - val_accuracy: 0.7472\n",
      "Epoch 29/100\n",
      "1158/1158 - 12s - loss: 0.4981 - accuracy: 0.8501 - val_loss: 1.1189 - val_accuracy: 0.7247\n",
      "Epoch 30/100\n",
      "1158/1158 - 12s - loss: 0.4943 - accuracy: 0.8549 - val_loss: 1.0473 - val_accuracy: 0.7360\n",
      "Epoch 31/100\n",
      "1158/1158 - 12s - loss: 0.4812 - accuracy: 0.8551 - val_loss: 1.0528 - val_accuracy: 0.7416\n",
      "Epoch 32/100\n",
      "1158/1158 - 12s - loss: 0.4764 - accuracy: 0.8565 - val_loss: 1.0641 - val_accuracy: 0.7360\n",
      "Epoch 33/100\n",
      "1158/1158 - 12s - loss: 0.4782 - accuracy: 0.8554 - val_loss: 1.1257 - val_accuracy: 0.7416\n",
      "Epoch 34/100\n",
      "1158/1158 - 12s - loss: 0.4772 - accuracy: 0.8606 - val_loss: 1.1731 - val_accuracy: 0.6910\n",
      "Epoch 35/100\n",
      "1158/1158 - 12s - loss: 0.4628 - accuracy: 0.8609 - val_loss: 1.2533 - val_accuracy: 0.6798\n",
      "Epoch 36/100\n",
      "1158/1158 - 12s - loss: 0.4535 - accuracy: 0.8647 - val_loss: 1.1920 - val_accuracy: 0.7079\n",
      "Epoch 37/100\n",
      "1158/1158 - 12s - loss: 0.4569 - accuracy: 0.8596 - val_loss: 1.2818 - val_accuracy: 0.7135\n",
      "Epoch 38/100\n",
      "1158/1158 - 12s - loss: 0.4449 - accuracy: 0.8651 - val_loss: 1.2074 - val_accuracy: 0.7191\n",
      "Epoch 39/100\n",
      "1158/1158 - 12s - loss: 0.4478 - accuracy: 0.8663 - val_loss: 1.2058 - val_accuracy: 0.7135\n",
      "Epoch 40/100\n",
      "1158/1158 - 12s - loss: 0.4630 - accuracy: 0.8604 - val_loss: 1.2268 - val_accuracy: 0.7191\n",
      "Epoch 41/100\n",
      "1158/1158 - 12s - loss: 0.4325 - accuracy: 0.8687 - val_loss: 1.2308 - val_accuracy: 0.7247\n",
      "Epoch 42/100\n",
      "1158/1158 - 12s - loss: 0.4480 - accuracy: 0.8653 - val_loss: 1.1344 - val_accuracy: 0.7247\n",
      "Epoch 43/100\n",
      "1158/1158 - 12s - loss: 0.4377 - accuracy: 0.8663 - val_loss: 1.2068 - val_accuracy: 0.7135\n",
      "Epoch 44/100\n",
      "1158/1158 - 12s - loss: 0.4303 - accuracy: 0.8658 - val_loss: 1.2839 - val_accuracy: 0.7303\n",
      "Epoch 45/100\n",
      "1158/1158 - 12s - loss: 0.4295 - accuracy: 0.8682 - val_loss: 1.2461 - val_accuracy: 0.7360\n",
      "Epoch 46/100\n",
      "1158/1158 - 12s - loss: 0.4394 - accuracy: 0.8694 - val_loss: 1.1904 - val_accuracy: 0.7079\n",
      "Epoch 47/100\n",
      "1158/1158 - 12s - loss: 0.4180 - accuracy: 0.8729 - val_loss: 1.1206 - val_accuracy: 0.7416\n",
      "Epoch 48/100\n",
      "1158/1158 - 12s - loss: 0.4279 - accuracy: 0.8692 - val_loss: 1.1981 - val_accuracy: 0.7191\n",
      "Epoch 49/100\n",
      "1158/1158 - 12s - loss: 0.4293 - accuracy: 0.8694 - val_loss: 1.2039 - val_accuracy: 0.7079\n",
      "Epoch 50/100\n",
      "1158/1158 - 12s - loss: 0.4133 - accuracy: 0.8739 - val_loss: 1.2016 - val_accuracy: 0.7022\n",
      "Epoch 51/100\n",
      "1158/1158 - 12s - loss: 0.4233 - accuracy: 0.8677 - val_loss: 1.1667 - val_accuracy: 0.7191\n",
      "Epoch 52/100\n",
      "1158/1158 - 12s - loss: 0.4086 - accuracy: 0.8718 - val_loss: 1.1787 - val_accuracy: 0.6910\n",
      "Epoch 53/100\n",
      "1158/1158 - 12s - loss: 0.4130 - accuracy: 0.8732 - val_loss: 1.1595 - val_accuracy: 0.7191\n",
      "Epoch 54/100\n",
      "1158/1158 - 12s - loss: 0.4099 - accuracy: 0.8734 - val_loss: 1.1877 - val_accuracy: 0.7135\n",
      "Epoch 55/100\n",
      "1158/1158 - 12s - loss: 0.4110 - accuracy: 0.8736 - val_loss: 1.1395 - val_accuracy: 0.7191\n",
      "Epoch 56/100\n",
      "1158/1158 - 12s - loss: 0.4097 - accuracy: 0.8725 - val_loss: 1.0505 - val_accuracy: 0.7360\n",
      "Epoch 57/100\n",
      "1158/1158 - 12s - loss: 0.4106 - accuracy: 0.8732 - val_loss: 1.1474 - val_accuracy: 0.7247\n",
      "Epoch 58/100\n",
      "1158/1158 - 12s - loss: 0.3947 - accuracy: 0.8765 - val_loss: 1.2075 - val_accuracy: 0.7416\n",
      "Epoch 59/100\n",
      "1158/1158 - 12s - loss: 0.3987 - accuracy: 0.8770 - val_loss: 1.1652 - val_accuracy: 0.7191\n",
      "Epoch 60/100\n",
      "1158/1158 - 12s - loss: 0.3974 - accuracy: 0.8761 - val_loss: 1.2477 - val_accuracy: 0.7079\n",
      "Epoch 61/100\n",
      "1158/1158 - 12s - loss: 0.3941 - accuracy: 0.8786 - val_loss: 1.1623 - val_accuracy: 0.7303\n",
      "Epoch 62/100\n",
      "1158/1158 - 12s - loss: 0.3944 - accuracy: 0.8791 - val_loss: 1.1923 - val_accuracy: 0.7191\n",
      "Epoch 63/100\n",
      "1158/1158 - 12s - loss: 0.3912 - accuracy: 0.8794 - val_loss: 1.2056 - val_accuracy: 0.7135\n",
      "Epoch 64/100\n",
      "1158/1158 - 12s - loss: 0.3912 - accuracy: 0.8780 - val_loss: 1.2942 - val_accuracy: 0.7135\n",
      "Epoch 65/100\n",
      "1158/1158 - 12s - loss: 0.3985 - accuracy: 0.8761 - val_loss: 1.2390 - val_accuracy: 0.7079\n",
      "Epoch 66/100\n",
      "1158/1158 - 12s - loss: 0.3909 - accuracy: 0.8779 - val_loss: 1.2810 - val_accuracy: 0.6854\n",
      "Epoch 67/100\n",
      "1158/1158 - 12s - loss: 0.4010 - accuracy: 0.8744 - val_loss: 1.3026 - val_accuracy: 0.6910\n",
      "Epoch 68/100\n",
      "1158/1158 - 12s - loss: 0.3896 - accuracy: 0.8782 - val_loss: 1.2472 - val_accuracy: 0.7303\n",
      "Epoch 69/100\n",
      "1158/1158 - 12s - loss: 0.3874 - accuracy: 0.8796 - val_loss: 1.2450 - val_accuracy: 0.7360\n",
      "Epoch 70/100\n",
      "1158/1158 - 12s - loss: 0.3888 - accuracy: 0.8761 - val_loss: 1.2821 - val_accuracy: 0.7416\n",
      "Epoch 71/100\n",
      "1158/1158 - 12s - loss: 0.3917 - accuracy: 0.8791 - val_loss: 1.2515 - val_accuracy: 0.7191\n",
      "Epoch 72/100\n",
      "1158/1158 - 12s - loss: 0.3754 - accuracy: 0.8805 - val_loss: 1.3509 - val_accuracy: 0.6854\n",
      "Epoch 73/100\n",
      "1158/1158 - 12s - loss: 0.3860 - accuracy: 0.8794 - val_loss: 1.3088 - val_accuracy: 0.6966\n",
      "Restoring model weights from the end of the best epoch.\n",
      "Epoch 00073: early stopping\n",
      "CPU times: total: 3min 32s\n",
      "Wall time: 14min 27s\n"
     ]
    }
   ],
   "source": [
    "%%time\n",
    "optimizer = tf.keras.optimizers.Adam(learning_rate=1e-4)\n",
    "\n",
    "# Save model with lowest validation error\n",
    "filepath = 'VGG_best.hdf5'\n",
    "checkpoint = ModelCheckpoint(filepath=filepath, \n",
    "                             monitor='val_loss',\n",
    "                             verbose=0, \n",
    "                             save_best_only=True,\n",
    "                             mode='min')\n",
    "\n",
    "earlystop = tf.keras.callbacks.EarlyStopping(monitor='val_loss', \n",
    "                                             patience=50, \n",
    "                                             verbose=1, \n",
    "                                             restore_best_weights=True)\n",
    "\n",
    "VGG.compile(loss = \"categorical_crossentropy\",\n",
    "                     optimizer = optimizer,\n",
    "                     metrics = [\"accuracy\"])\n",
    "\n",
    "epochs = 100\n",
    "VGG_hist = VGG.fit(train_ds, epochs=epochs, validation_data=validation_ds, \n",
    "                   callbacks=[checkpoint, earlystop], verbose=2)"
   ]
  },
  {
   "cell_type": "code",
   "execution_count": 21,
   "id": "a450c628",
   "metadata": {},
   "outputs": [
    {
     "data": {
      "image/png": "[encoded data removed]",
      "text/plain": [
       "<Figure size 640x480 with 1 Axes>"
      ]
     },
     "metadata": {
      "needs_background": "light"
     },
     "output_type": "display_data"
    }
   ],
   "source": [
    "plot_hist(VGG_hist)"
   ]
  },
  {
   "cell_type": "markdown",
   "id": "749c4707",
   "metadata": {},
   "source": [
    "We see that the training stays low after first 10-20 epochs. It stays low in the later training process. The validation error stays around 0.3 and is larger than the training error. Though we set 100 epochs for training the `VGG16` model, the training process is terminated by the early stopping."
   ]
  },
  {
   "cell_type": "markdown",
   "id": "b97f6e93",
   "metadata": {},
   "source": [
    "### v.\n",
    "Report Precision, Recall, and F1 score for your model. Remember that this is a multi-class classification problem."
   ]
  },
  {
   "cell_type": "markdown",
   "id": "8116245b",
   "metadata": {},
   "source": [
    "#### EfficientNet Report"
   ]
  },
  {
   "cell_type": "code",
   "execution_count": 22,
   "id": "e767cbad",
   "metadata": {},
   "outputs": [
    {
     "name": "stdout",
     "output_type": "stream",
     "text": [
      "(171, 20)\n"
     ]
    }
   ],
   "source": [
    "# Obtain true labels from data set\n",
    "y_true = np.concatenate([y for x, y in test_ds], axis=0)\n",
    "print(y_true.shape)"
   ]
  },
  {
   "cell_type": "code",
   "execution_count": 23,
   "id": "ce58b0f5",
   "metadata": {},
   "outputs": [
    {
     "name": "stdout",
     "output_type": "stream",
     "text": [
      "(171, 20)\n"
     ]
    }
   ],
   "source": [
    "# Make prediction using EfficientNet\n",
    "y_pred_EN = EfficientNet.predict(test_ds)\n",
    "y_pred_EN_categorical = utils.to_categorical(np.argmax(y_pred_EN, axis=1), 20)\n",
    "print(y_pred_EN_categorical.shape)"
   ]
  },
  {
   "cell_type": "code",
   "execution_count": 24,
   "id": "ecd5d488",
   "metadata": {},
   "outputs": [
    {
     "name": "stdout",
     "output_type": "stream",
     "text": [
      "              precision    recall  f1-score   support\n",
      "\n",
      "           0       1.00      1.00      1.00         6\n",
      "           1       1.00      1.00      1.00         9\n",
      "           2       1.00      0.88      0.93         8\n",
      "           3       0.71      0.62      0.67         8\n",
      "           4       0.71      0.56      0.63         9\n",
      "           5       0.75      1.00      0.86         9\n",
      "           6       0.90      1.00      0.95         9\n",
      "           7       0.82      1.00      0.90         9\n",
      "           8       0.90      1.00      0.95         9\n",
      "           9       1.00      1.00      1.00         9\n",
      "          10       1.00      0.89      0.94         9\n",
      "          11       0.89      0.89      0.89         9\n",
      "          12       1.00      0.67      0.80         9\n",
      "          13       0.80      0.89      0.84         9\n",
      "          14       0.82      1.00      0.90         9\n",
      "          15       0.86      0.75      0.80         8\n",
      "          16       1.00      1.00      1.00         8\n",
      "          17       1.00      0.88      0.93         8\n",
      "          18       0.89      0.89      0.89         9\n",
      "          19       1.00      1.00      1.00         8\n",
      "\n",
      "   micro avg       0.89      0.89      0.89       171\n",
      "   macro avg       0.90      0.90      0.89       171\n",
      "weighted avg       0.90      0.89      0.89       171\n",
      " samples avg       0.89      0.89      0.89       171\n",
      "\n"
     ]
    }
   ],
   "source": [
    "# Report Precision, Recall, and F1 score for EfficientNet\n",
    "print(classification_report(y_true, y_pred_EN_categorical))"
   ]
  },
  {
   "cell_type": "markdown",
   "id": "3e64a748",
   "metadata": {},
   "source": [
    "We see that the `EfficientNet` model does a good job overall. While we can still recognize that it does not perform very well on class 3 and 4, the overall result should be considered as acceptable."
   ]
  },
  {
   "cell_type": "markdown",
   "id": "36f7872d",
   "metadata": {},
   "source": [
    "#### VGG Report"
   ]
  },
  {
   "cell_type": "code",
   "execution_count": 25,
   "id": "869184f6",
   "metadata": {},
   "outputs": [
    {
     "name": "stdout",
     "output_type": "stream",
     "text": [
      "(171, 20)\n"
     ]
    }
   ],
   "source": [
    "# Prediction for VGG\n",
    "y_pred_VGG = VGG.predict(test_ds)\n",
    "y_pred_VGG_categorical = utils.to_categorical(np.argmax(y_pred_VGG, axis=1), 20)\n",
    "print(y_pred_VGG_categorical.shape)"
   ]
  },
  {
   "cell_type": "code",
   "execution_count": 26,
   "id": "ddc8cb3a",
   "metadata": {},
   "outputs": [
    {
     "name": "stdout",
     "output_type": "stream",
     "text": [
      "              precision    recall  f1-score   support\n",
      "\n",
      "           0       0.45      0.83      0.59         6\n",
      "           1       0.90      1.00      0.95         9\n",
      "           2       0.83      0.62      0.71         8\n",
      "           3       0.80      1.00      0.89         8\n",
      "           4       0.00      0.00      0.00         9\n",
      "           5       0.86      0.67      0.75         9\n",
      "           6       0.75      1.00      0.86         9\n",
      "           7       0.64      0.78      0.70         9\n",
      "           8       0.50      0.56      0.53         9\n",
      "           9       1.00      1.00      1.00         9\n",
      "          10       0.58      0.78      0.67         9\n",
      "          11       1.00      1.00      1.00         9\n",
      "          12       0.86      0.67      0.75         9\n",
      "          13       0.58      0.78      0.67         9\n",
      "          14       0.75      0.67      0.71         9\n",
      "          15       0.58      0.88      0.70         8\n",
      "          16       1.00      1.00      1.00         8\n",
      "          17       0.50      0.50      0.50         8\n",
      "          18       0.00      0.00      0.00         9\n",
      "          19       0.78      0.88      0.82         8\n",
      "\n",
      "   micro avg       0.73      0.73      0.73       171\n",
      "   macro avg       0.67      0.73      0.69       171\n",
      "weighted avg       0.67      0.73      0.69       171\n",
      " samples avg       0.73      0.73      0.73       171\n",
      "\n"
     ]
    },
    {
     "name": "stderr",
     "output_type": "stream",
     "text": [
      "C:\\ProgramData\\Anaconda3\\envs\\tf-gpu\\lib\\site-packages\\sklearn\\metrics\\_classification.py:1327: UndefinedMetricWarning: Precision and F-score are ill-defined and being set to 0.0 in labels with no predicted samples. Use `zero_division` parameter to control this behavior.\n",
      "  _warn_prf(average, modifier, msg_start, len(result))\n"
     ]
    }
   ],
   "source": [
    "print(classification_report(y_true, y_pred_VGG_categorical))"
   ]
  },
  {
   "cell_type": "markdown",
   "id": "9773e0c1",
   "metadata": {},
   "source": [
    "The `VGG16` model obtains overall precision, recall, and F1 score that are slightly lower than the previous model, especially for class 0, 2, 4, 8, 17, and 18. It performs well in general."
   ]
  },
  {
   "cell_type": "markdown",
   "id": "002438f8",
   "metadata": {},
   "source": [
    "# Reference"
   ]
  },
  {
   "cell_type": "markdown",
   "id": "e1302eda",
   "metadata": {},
   "source": [
    "[Adding borders to your images](https://docs.opencv.org/3.4/dc/da3/tutorial_copyMakeBorder.html)\n",
    "\n",
    "[Hands-on Transfer Learning with Keras and the VGG16 Model](https://www.learndatasci.com/tutorials/hands-on-transfer-learning-keras/)\n",
    "\n",
    "[Image classification via fine-tuning with EfficientNet](https://keras.io/examples/vision/image_classification_efficientnet_fine_tuning/)\n",
    "\n",
    "[Image Classification Transfer Learning and Fine Tuning using TensorFlow](https://towardsdatascience.com/image-classification-transfer-learning-and-fine-tuning-using-tensorflow-a791baf9dbf3)\n",
    "\n",
    "[Image data loading](https://keras.io/api/data_loading/image/#:~:text=batch_size%3A%20Size%20of%20the%20batches,as%20(height%2C%20width)%20.)\n",
    "\n",
    "[sklearn.metrics.classification_report](https://scikit-learn.org/stable/modules/generated/sklearn.metrics.classification_report.html)\n",
    "\n",
    "[sklearn.preprocessing.OneHotEncoder](https://scikit-learn.org/stable/modules/generated/sklearn.preprocessing.OneHotEncoder.html)\n",
    "\n",
    "[tf.keras.applications.efficientnet.EfficientNetB0](https://www.tensorflow.org/api_docs/python/tf/keras/applications/efficientnet/EfficientNetB0)\n",
    "\n",
    "\n",
    "[tf.keras.utils.image_dataset_from_directory](https://www.tensorflow.org/api_docs/python/tf/keras/utils/image_dataset_from_directory)"
   ]
  }
 ],
 "metadata": {
  "kernelspec": {
   "display_name": "Python 3 (ipykernel)",
   "language": "python",
   "name": "python3"
  },
  "language_info": {
   "codemirror_mode": {
    "name": "ipython",
    "version": 3
   },
   "file_extension": ".py",
   "mimetype": "text/x-python",
   "name": "python",
   "nbconvert_exporter": "python",
   "pygments_lexer": "ipython3",
   "version": "3.11.4"
  }
 },
 "nbformat": 4,
 "nbformat_minor": 5
}
